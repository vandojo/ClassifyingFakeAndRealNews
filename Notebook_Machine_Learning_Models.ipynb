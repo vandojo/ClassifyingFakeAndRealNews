{
 "cells": [
  {
   "cell_type": "code",
   "execution_count": 1,
   "metadata": {},
   "outputs": [
    {
     "name": "stderr",
     "output_type": "stream",
     "text": [
      "c:\\Users\\jvand\\AppData\\Local\\Programs\\Python\\Python310\\lib\\site-packages\\scipy\\__init__.py:146: UserWarning: A NumPy version >=1.16.5 and <1.23.0 is required for this version of SciPy (detected version 1.26.4\n",
      "  warnings.warn(f\"A NumPy version >={np_minversion} and <{np_maxversion}\"\n",
      "[nltk_data] Downloading package vader_lexicon to\n",
      "[nltk_data]     C:\\Users\\jvand\\AppData\\Roaming\\nltk_data...\n",
      "[nltk_data]   Package vader_lexicon is already up-to-date!\n"
     ]
    },
    {
     "data": {
      "text/plain": [
       "True"
      ]
     },
     "execution_count": 1,
     "metadata": {},
     "output_type": "execute_result"
    }
   ],
   "source": [
    "\n",
    "import pickle\n",
    "import json\n",
    "import sys\n",
    "import re\n",
    "import os\n",
    "from pprint import pprint\n",
    "\n",
    "import pandas as pd\n",
    "import numpy as np\n",
    "import matplotlib.pyplot as plt\n",
    "import gensim\n",
    "\n",
    "# modules from the scikit-learn library\n",
    "from sklearn.feature_extraction.text import CountVectorizer\n",
    "from sklearn.feature_extraction.text import TfidfTransformer\n",
    "from sklearn.model_selection import RandomizedSearchCV\n",
    "from sklearn.metrics import confusion_matrix\n",
    "from sklearn.metrics import ConfusionMatrixDisplay\n",
    "from sklearn.metrics import roc_auc_score\n",
    "from sklearn.pipeline import make_pipeline\n",
    "from sklearn.feature_extraction.text import TfidfVectorizer\n",
    "from sklearn.svm import SVC\n",
    "from sklearn.model_selection import cross_validate\n",
    "from sklearn.metrics import accuracy_score\n",
    "from sklearn.metrics import f1_score\n",
    "from sklearn.ensemble import RandomForestClassifier\n",
    "from sklearn.preprocessing import LabelEncoder\n",
    "from sklearn.model_selection import train_test_split\n",
    "from sklearn.decomposition import PCA\n",
    "from sklearn.model_selection import GridSearchCV\n",
    "from sklearn.preprocessing import StandardScaler\n",
    "from sklearn.pipeline import Pipeline\n",
    "from sklearn.compose import ColumnTransformer\n",
    "\n",
    "\n",
    "# modules from the NLTK library\n",
    "import nltk\n",
    "from nltk.sentiment import SentimentIntensityAnalyzer\n",
    "from nltk import FreqDist\n",
    "from nltk.tag import pos_tag_sents\n",
    "from nltk.tokenize import sent_tokenize\n",
    "from nltk.tokenize import word_tokenize\n",
    "from nltk import pos_tag\n",
    "from nltk.corpus import stopwords\n",
    "from nltk.stem import WordNetLemmatizer\n",
    "from nltk.corpus import wordnet as wn\n",
    "\n",
    "nltk.download(['vader_lexicon'])"
   ]
  },
  {
   "cell_type": "markdown",
   "metadata": {},
   "source": [
    "# This notebook contains:\n",
    "- the data exploration\n",
    "- Support vector machine and random forest classifier experimentation\n",
    "- Tf-idf and Word2Vec experimentation and training\n",
    "- Parameter optimisation for the deep learning models\n",
    "- Evaluation of deep learning models on the test data\n"
   ]
  },
  {
   "cell_type": "code",
   "execution_count": 4,
   "metadata": {},
   "outputs": [],
   "source": [
    "# Method to load a data set\n",
    "def loadDataset(directory_path: str, f_extension: str) -> list:\n",
    "    load_files = [directory_path+ f for f in os.listdir(directory_path) if f.endswith(f_extension)]\n",
    "\n",
    "    return load_files\n",
    "\n"
   ]
  },
  {
   "cell_type": "code",
   "execution_count": 5,
   "metadata": {},
   "outputs": [],
   "source": [
    "# function that returns a merged pandas dataframe from a list of file names\n",
    "def combineDataset(file_names: list, index_false=0, cols=None) ->  pd.core.frame.DataFrame:\n",
    "    data = []\n",
    "    for f in range(len(file_names)):\n",
    "        if cols:\n",
    "            df = pd.read_csv(file_names[f], usecols=cols)\n",
    "        else:\n",
    "            df = pd.read_csv(file_names[f])\n",
    "        if f == index_false:\n",
    "            df['target'] = 0\n",
    "        else:\n",
    "            df['target'] = 1\n",
    "        \n",
    "        data.append(df)\n",
    "    \n",
    "    return pd.concat(data)\n"
   ]
  },
  {
   "cell_type": "markdown",
   "metadata": {},
   "source": [
    "The first step is to load the raw datafiles and combine them into a single dataframe"
   ]
  },
  {
   "cell_type": "code",
   "execution_count": 248,
   "metadata": {},
   "outputs": [],
   "source": [
    "# Load and combine datasets\n",
    "\n",
    "# load isot data\n",
    "isot_data = loadDataset(directory_path='data/ISOT/', f_extension='.csv')\n",
    "isot_data = combineDataset(file_names=isot_data, index_false=0, cols=['title', 'text', 'subject'])\n",
    "\n",
    "# load fake or real dataset\n",
    "fake_or_real_data = pd.read_csv('data/news_dataset_fake_or_real/news_datasets.csv', usecols=['title', 'text', 'label'])\n",
    "fake_or_real_data['target'] = 0\n",
    "fake_or_real_data.loc[(fake_or_real_data.label == 'REAL'), 'target'] = 1\n",
    "fake_or_real_data.drop(columns=['label'], inplace=True)\n",
    "\n",
    "\n",
    "# combine datasets\n",
    "data = pd.concat([isot_data[['title', 'text', 'target']], fake_or_real_data])\n",
    "\n",
    "# drop duplicate data\n",
    "data.drop_duplicates(subset='text', inplace=True)\n",
    "\n",
    "# reset index\n",
    "data.reset_index(drop=True, inplace=True)"
   ]
  },
  {
   "cell_type": "code",
   "execution_count": 6,
   "metadata": {},
   "outputs": [],
   "source": [
    "data = pd.read_csv('preprocessed_inter.csv')"
   ]
  },
  {
   "cell_type": "markdown",
   "metadata": {},
   "source": [
    "# Data exploration\n",
    "\n",
    "Before  conducting any type of machine learning and deep learning analysis, it is an excellent idea to get a better understanding of the data one is working with. I will achieve this by conducting some exploratory data analysis. This consists of showing:\n",
    "\n",
    "- The data distribution\n",
    "- Topics in the data: make frequency distribution of common words, plot data around those words\n",
    "- After tokenisation and stop word removal, create a frequency distribution of common words or named entities\n",
    "- Most useful text features, namely:\n",
    "    - Frequency distribution of most common words\n",
    "    - Emotive index/Polarity: calculated with the NLTK Vader sentiment analysis method\n",
    "    - Coleman-Liau index/Readability: 0.0588 * L - 0..296 * S - 15.8 where L is the average number of letters per 100 words and S is the average number of sentences per 100 words.\n",
    "    - Number of pronouns/Quantity feature\n",
    "\n",
    "\n",
    "### Pre-process the data\n",
    "\n",
    "- plot data distribution\n",
    "- plot distribution of features among:\n",
    "    - title\n",
    "    - full text"
   ]
  },
  {
   "cell_type": "markdown",
   "metadata": {},
   "source": [
    "The plot below will show the distribution between fake and real classes in the data"
   ]
  },
  {
   "cell_type": "code",
   "execution_count": 201,
   "metadata": {},
   "outputs": [
    {
     "data": {
      "image/png": "[encoded data removed]",
      "text/plain": [
       "<Figure size 640x480 with 1 Axes>"
      ]
     },
     "metadata": {},
     "output_type": "display_data"
    }
   ],
   "source": [
    "n_fake_articles = data.loc[(data.target == 0), 'target']\n",
    "n_real_articles = data.loc[(data.target == 1), 'target']\n",
    "\n",
    "fig, ax = plt.subplots()\n",
    "\n",
    "ax.hist(n_fake_articles, color='orange', alpha=0.8, edgecolor='black', label='Fake')\n",
    "ax.hist(n_real_articles, color='green', alpha=0.8, edgecolor='black', label='Real')\n",
    "ax.set_xticks([0,1])\n",
    "ax.set_xticklabels(['False', 'True'])\n",
    "\n",
    "ax.set_xlabel('Classes', fontsize=16)\n",
    "ax.set_ylabel('Count', fontsize=16)\n",
    "\n",
    "fig.legend(loc='upper left')\n",
    "fig.suptitle('Number of fake and real articles', fontsize=18)\n",
    "\n",
    "fig.savefig('n_fake_real_articles.png')\n",
    "\n"
   ]
  },
  {
   "cell_type": "markdown",
   "metadata": {},
   "source": [
    "# Calculating additional linguistic features\n",
    "\n",
    "I am calculating additional linguistic features that are common in the field of nlp. These are:\n",
    "- The Coleman-Liau Index\n",
    "- The polarity scores\n",
    "- The number of personal pronouns in the text\n",
    "\n",
    "The polarity score is calculated using the NLTk SentimentIntensityAnalyzer. The other two are calculated using the custom functions defined below.\n",
    "\n",
    "After removing stopwords from the text using the NLTK English stop word set. I plot the destribution of these linguistic features between the fake and real classes.\n",
    "\n",
    "Once these values are calculated, distribution plots are created. These will indicate if there is any difference in distribution between the fake and real classes in terms of these metrics"
   ]
  },
  {
   "cell_type": "code",
   "execution_count": 28,
   "metadata": {},
   "outputs": [],
   "source": [
    "# Get the compound polarity for all news titles\n",
    "sia = SentimentIntensityAnalyzer()\n"
   ]
  },
  {
   "cell_type": "code",
   "execution_count": 1,
   "metadata": {},
   "outputs": [],
   "source": [
    "def colemanLiauIndex(item):\n",
    "\n",
    "    # list of words\n",
    "    words = word_tokenize(item)\n",
    "    #list of sentences\n",
    "    sents = sent_tokenize(item)\n",
    "    # number of words\n",
    "    nWords = len(words) + 1\n",
    "    # number of sentences\n",
    "    nSents = len(sents)    \n",
    "    # number of letters\n",
    "    nLetters = pd.Series(words).apply(len).sum()\n",
    "    \n",
    "    # avg number of letters per 100 words\n",
    "    L = nLetters / (nWords / 100)\n",
    "    # avg number of sentences per 100 words\n",
    "    S = nSents / (nWords / 100)\n",
    "    # Return index\n",
    "    return 0.0588 * L - 0.296 * S - 15.8 "
   ]
  },
  {
   "cell_type": "code",
   "execution_count": 7,
   "metadata": {},
   "outputs": [],
   "source": [
    "def personalPronoun(item):\n",
    "    if item == 'PRP' or item == 'PRP$':\n",
    "        return 1\n",
    "    else:\n",
    "        return 0"
   ]
  },
  {
   "cell_type": "code",
   "execution_count": 8,
   "metadata": {},
   "outputs": [],
   "source": [
    "def personalPronounCount(item):\n",
    "    total = 0\n",
    "    for k, v in item:\n",
    "        total += personalPronoun(v)\n",
    "    \n",
    "    return total"
   ]
  },
  {
   "cell_type": "code",
   "execution_count": 434,
   "metadata": {},
   "outputs": [],
   "source": [
    "# CALCULATE THE NUMBER OF PERSONAL PRONOUNS\n",
    "\n",
    "# Get the number of personal pronouns per title. WARNING WILL RUN FOR A LONG TIME\n",
    "data['title_pp'] = pd.Series(pos_tag_sents(data.title_processed.apply(word_tokenize).tolist())).apply(personalPronounCount)\n",
    "\n",
    "# Get number of personal pronouns per text. WARNING THIS WILL RUN FOR A LONG TIME\n",
    "data['text_nPP'] = pd.Series(pos_tag_sents(data.text_processed.apply(word_tokenize).tolist())).apply(personalPronounCount)\n",
    "\n",
    "\n",
    "# CALCULATE THE TEXT POLARITY SCORES\n",
    "# processed text polarity scores\n",
    "data['text_polarity'] = data.text_processed.apply(sia.polarity_scores).apply(lambda x: x['compound'])\n",
    "\n",
    "# processed title polarity scores\n",
    "data['title_polarity'] = data.title_processed.apply(sia.polarity_scores).apply(lambda x: x['compound'])\n",
    "\n",
    "\n",
    "# CALCULATE THE COLEMAN-LIAU INDEX\n",
    "\n",
    "# processed titles Coleman Liau readability index scores\n",
    "data['coleman_liau_title'] = data.title_processed.apply(colemanLiauIndex)\n",
    "\n",
    "# processed text Coleman-Liau readibility index scores\n",
    "data['coleman_liau_text'] = data.text_processed.apply(colemanLiauIndex)"
   ]
  },
  {
   "cell_type": "code",
   "execution_count": 45,
   "metadata": {},
   "outputs": [],
   "source": [
    "stopword_cache = set(stopwords.words('english'))\n",
    "def removeStopwords(item):\n",
    "   return ' '.join([word for word in item if word not in stopword_cache])"
   ]
  },
  {
   "cell_type": "code",
   "execution_count": 62,
   "metadata": {},
   "outputs": [],
   "source": [
    "# Remove stopwords from title\n",
    "data['title_processed'] = data.title_processed.apply(word_tokenize).apply(removeStopwords)"
   ]
  },
  {
   "cell_type": "code",
   "execution_count": 64,
   "metadata": {},
   "outputs": [],
   "source": [
    "# remove stopwords from text \n",
    "data['text_processed'] =data.text_processed.apply(word_tokenize).apply(removeStopwords)"
   ]
  },
  {
   "cell_type": "code",
   "execution_count": 90,
   "metadata": {},
   "outputs": [
    {
     "data": {
      "image/png": "[encoded data removed]",
      "text/plain": [
       "<Figure size 1200x1000 with 6 Axes>"
      ]
     },
     "metadata": {},
     "output_type": "display_data"
    }
   ],
   "source": [
    "bins = 30\n",
    "\n",
    "fig, axs = plt.subplots(nrows=3, ncols=2)\n",
    "\n",
    "fig.set_size_inches(12, 10)\n",
    "\n",
    "\n",
    "\n",
    "# get all title lengths in the separate classes\n",
    "false_title_len = data.loc[(data.target == 0), 'title_processed'].apply(word_tokenize).apply(len)\n",
    "true_title_len = data.loc[(data.target == 1), 'title_processed'].apply(word_tokenize).apply(len)\n",
    "\n",
    "# # plot length of titles\n",
    "axs[0][0].hist(false_title_len, bins=bins, alpha=0.5, color='orange', label='False')\n",
    "axs[0][0].hist(true_title_len, bins=bins, alpha=0.5, color='green', label='True')\n",
    "\n",
    "#axs[0][0].legend(loc='upper right')\n",
    "\n",
    "axs[0][0].set_title('(a): Article title length')\n",
    "\n",
    "\n",
    "# plot text lengths\n",
    "false_txt_len = data.loc[(data.target == 0), 'text_processed'].apply(word_tokenize).apply(len)\n",
    "true_txt_len = data.loc[(data.target == 1), 'text_processed'].apply(word_tokenize).apply(len)\n",
    "\n",
    "axs[0][1].hist(false_txt_len, bins=bins, alpha=0.5, color='orange', label='False')\n",
    "axs[0][1].hist(true_txt_len, bins=bins, alpha=0.5, color='green', label='True')\n",
    "#axs[0][1].set_xticks([0,1,2,3,4,5,6,7])\n",
    "\n",
    "\n",
    "axs[0][1].set_title('(b): Text length distribution')\n",
    "\n",
    "# plot distribution of polarity\n",
    "fake_polarity = data.loc[(data.target == 0), 'title_polarity']\n",
    "real_polarity = data.loc[(data.target == 1), 'title_polarity']\n",
    "\n",
    "\n",
    "axs[1][0].hist(fake_polarity, bins=bins, alpha=0.5, color='orange', label='Fake')\n",
    "axs[1][0].hist(real_polarity, bins=bins, alpha=0.5, color='green', label='Real')\n",
    "\n",
    "axs[1][0].set_title('(c): Title Polarity')\n",
    "\n",
    "# plot distribution of polarity in text\n",
    "fake_polarity_txt = data.loc[(data.target == 0), 'text_polarity']\n",
    "real_polarity_txt = data.loc[(data.target == 1), 'text_polarity']\n",
    "\n",
    "\n",
    "axs[1][1].hist(fake_polarity_txt, bins=bins, alpha=0.5, color='orange', label='Fake')\n",
    "axs[1][1].hist(real_polarity_txt, bins=bins, alpha=0.5, color='green', label='Real')\n",
    "\n",
    "axs[1][1].set_title('(d): Text Polarity')\n",
    "\n",
    "# plot readability index\n",
    "fake_readability = data.loc[(data.target == 0), 'coleman_liau_title']\n",
    "real_readability = data.loc[(data.target == 1), 'coleman_liau_title']\n",
    "\n",
    "axs[2][0].hist(fake_readability, bins=bins, alpha=0.5, color='orange', label='Fake')\n",
    "axs[2][0].hist(real_readability, bins=bins, alpha=0.5, color='green', label='Real')\n",
    "\n",
    "axs[2][0].set_title('(e): Title Readability')\n",
    "\n",
    "\n",
    "# plot text readability index\n",
    "cl_txt_fake = data.loc[(data.target == 0), 'coleman_liau_text']\n",
    "cl_txt_real = data.loc[(data.target == 1), 'coleman_liau_text']\n",
    "axs[2][1].hist(cl_txt_fake, bins=bins, alpha=0.5, color='orange', label='Fake')\n",
    "axs[2][1].hist(cl_txt_real, bins=bins, alpha=0.5, color='green', label='Real')\n",
    "axs[2][1].set_title('(f): Text Readability')\n",
    "\n",
    "\n",
    "handles, labels = axs[0][0].get_legend_handles_labels()\n",
    "\n",
    "fig.suptitle('Dataset visualisation')\n",
    "fig.legend(handles, labels, loc='upper left')\n",
    "\n",
    "fig.savefig('sixsubplots.png')\n",
    "\n",
    "\n",
    "\n"
   ]
  },
  {
   "cell_type": "markdown",
   "metadata": {},
   "source": [
    "I will now create a frequency distribution of the 20 commonest words in across the fake and real classes. This is done for both the titles and the full texts."
   ]
  },
  {
   "cell_type": "code",
   "execution_count": 153,
   "metadata": {},
   "outputs": [],
   "source": [
    "fake_fdist_title = FreqDist()\n",
    "for k, v in data.loc[(data.target == 0), 'title_processed'].str.split(' ').explode().value_counts().items():\n",
    "    fake_fdist_title[k] = v\n",
    "\n",
    "real_fdist_title = FreqDist()\n",
    "for k, v in data.loc[(data.target == 1), 'title_processed'].str.split(' ').explode().value_counts().items():\n",
    "    real_fdist_title[k] = v"
   ]
  },
  {
   "cell_type": "code",
   "execution_count": 178,
   "metadata": {},
   "outputs": [],
   "source": [
    "# Initialise frequency distribution objects\n",
    "fake_fdist_txt = FreqDist()\n",
    "for k, v in data.loc[(data.target == 0), 'text_processed'].str.split(' ').explode().value_counts().items():\n",
    "    fake_fdist_txt[k] = v\n",
    "\n",
    "\n",
    "real_fdist_txt = FreqDist()\n",
    "for k, v in data.loc[(data.target == 1), 'text_processed'].str.split(' ').explode().value_counts().items():\n",
    "    real_fdist_txt[k] = v"
   ]
  },
  {
   "cell_type": "code",
   "execution_count": 183,
   "metadata": {},
   "outputs": [
    {
     "data": {
      "image/png": "[encoded data removed]",
      "text/plain": [
       "<Figure size 1200x1000 with 4 Axes>"
      ]
     },
     "metadata": {},
     "output_type": "display_data"
    }
   ],
   "source": [
    "fig, axs = plt.subplots(nrows=2, ncols=2)\n",
    "fig.set_size_inches(12, 10)\n",
    "\n",
    "fig.suptitle('Frequency distribution of 20 most common titles')\n",
    "\n",
    "\n",
    "# REAL NEWS TITLES\n",
    "# Plot swapped axes\n",
    "x_rt = [v for k, v in sorted(real_fdist_title.most_common(20), key=lambda x: x[1])]\n",
    "y_rt = [k for k, v in sorted(real_fdist_title.most_common(20), key=lambda x: x[1])]\n",
    "\n",
    "axs[0][0].barh(y_rt, x_rt, color='green', alpha=0.5, label='Real news')\n",
    "axs[0][0].set_xlabel('Counts')\n",
    "axs[0][0].set_ylabel('Samples')\n",
    "axs[0][0].set_title('Most frequent words in real titles')\n",
    "\n",
    "\n",
    "# FAKE NEWS TITLES\n",
    "# Plot swapped axes\n",
    "x_ft = [v for k, v in sorted(fake_fdist_title.most_common(20), key=lambda x: x[1])]\n",
    "y_ft = [k for k, v in sorted(fake_fdist_title.most_common(20), key=lambda x: x[1])]\n",
    "\n",
    "axs[0][1].barh(y_ft, x_ft, color='orange', alpha=0.5, label='Fake news')\n",
    "axs[0][1].set_xlabel('Counts')\n",
    "\n",
    "axs[0][1].set_title('Most frequent words in fake titles')\n",
    "\n",
    "\n",
    "# REAL NEWS TEXT\n",
    "# Plot swapped axes\n",
    "x_rtxt = [v for k, v in sorted(real_fdist_txt.most_common(20), key=lambda x: x[1])]\n",
    "y_rtxt = [k for k, v in sorted(real_fdist_txt.most_common(20), key=lambda x: x[1])]\n",
    "\n",
    "axs[1][0].barh(y_rtxt, x_rtxt, color='green', alpha=0.5, )\n",
    "axs[1][0].set_xlabel('Counts')\n",
    "axs[1][0].set_ylabel('Samples')\n",
    "axs[1][0].set_title('Most frequent words in real texts')\n",
    "\n",
    "# FAKE NEWS TEXT\n",
    "# Plot swapped axes\n",
    "x_ftxt = [v for k, v in sorted(fake_fdist_txt.most_common(20), key=lambda x: x[1])]\n",
    "y_ftxt = [k for k, v in sorted(fake_fdist_txt.most_common(20), key=lambda x: x[1])]\n",
    "\n",
    "axs[1][1].barh(y_ftxt, x_ftxt, color='orange', alpha=0.5,)\n",
    "axs[1][1].set_xlabel('Counts')\n",
    "\n",
    "axs[1][1].set_title('Most frequent words in fake texts')\n",
    "\n",
    "\n",
    "fig.legend(loc='upper left')\n",
    "\n",
    "fig.savefig('frequencydist.png')\n"
   ]
  },
  {
   "cell_type": "markdown",
   "metadata": {},
   "source": [
    "# Data preprocessing\n",
    "\n",
    "In the data pre-processing stage I will do the following:\n",
    "- remove single characters\n",
    "- Remove non-alphabetical charactes\n",
    "- create a lemmatised copy of the data\n",
    "- in order to carry out the lemmatisation process properly, is provide each word with a part-of-speech tag using the custom methods below.\n",
    "\n",
    "Once the titles and full texts are pre-processed. I create a combination of the title and the first 200 words of the full text. This is the third input size that is evaluated.\n"
   ]
  },
  {
   "cell_type": "code",
   "execution_count": 13,
   "metadata": {},
   "outputs": [],
   "source": [
    "# ensure reproducibility\n",
    "np.random.seed(100)"
   ]
  },
  {
   "cell_type": "code",
   "execution_count": 12,
   "metadata": {},
   "outputs": [],
   "source": [
    "def tagger(i):\n",
    "    pos_tags = {\n",
    "    'J': wn.ADJ,\n",
    "    'V': wn.VERB,\n",
    "    'R': wn.ADV,\n",
    "    'N': wn.NOUN\n",
    "    }\n",
    "    try:\n",
    "        ans = pos_tags[i]\n",
    "        return ans\n",
    "    except:\n",
    "        return None"
   ]
  },
  {
   "cell_type": "code",
   "execution_count": 13,
   "metadata": {},
   "outputs": [],
   "source": [
    "def makeLemma(word, tag):\n",
    "    # word lemmatiser\n",
    "    word_lemmatiser = WordNetLemmatizer()\n",
    "\n",
    "    \n",
    "    if tag:\n",
    "        \n",
    "        return word_lemmatiser.lemmatize(word, tag)\n",
    "    else:\n",
    "        \n",
    "        return word_lemmatiser.lemmatize(word)"
   ]
  },
  {
   "cell_type": "code",
   "execution_count": 4,
   "metadata": {},
   "outputs": [],
   "source": [
    "def progress(count:int, total:int, suffix='') -> None:\n",
    "\n",
    "        progress_bar_length = 100\n",
    "\n",
    "        current_length = int(round(progress_bar_length * count / float(total)))\n",
    "\n",
    "        pct = round(100 * count / float(total), 1)\n",
    "        \n",
    "        bar = '=' * current_length + '-' * (progress_bar_length - current_length)\n",
    "        \n",
    "        sys.stdout.write('[%s] %s%s ...%s\\r' %(bar, pct, '%', suffix))\n",
    "\n",
    "        sys.stdout.flush()\n",
    "        return"
   ]
  },
  {
   "cell_type": "code",
   "execution_count": 5,
   "metadata": {},
   "outputs": [],
   "source": [
    "def removeSingleChars(input):\n",
    "    return ' '.join( [w for w in input.split() if len(w)>1] )"
   ]
  },
  {
   "cell_type": "code",
   "execution_count": 6,
   "metadata": {},
   "outputs": [],
   "source": [
    "def preProcess(data: pd.Series, applyLemmatisation: bool):\n",
    "\n",
    "    d = data.apply(str.lower)\n",
    "\n",
    "     \n",
    "    \n",
    "    \n",
    "    # replace non-alphabetical characters with empty strings\n",
    "    # things like numbers, interpunction and white spaces\n",
    "    d = [re.sub(r'\\d+', '', re.sub(r'\\W+', ' ', txt)) for txt in d]\n",
    "\n",
    "    d = pd.Series(d)\n",
    "\n",
    "    if not applyLemmatisation:\n",
    "        return d\n",
    "\n",
    "    # Tokenise and run initial pos tagger on data\n",
    "    d = pos_tag_sents(d.apply(word_tokenize).tolist())\n",
    "    \n",
    "    lemmatised_txts = []\n",
    "\n",
    "    for i in range(len(d)):\n",
    "        progress(count=i, total=len(d))\n",
    "        txt = d[i]\n",
    "\n",
    "        tagged_txt = list(map(lambda item: (item[0], tagger(item[1][0])), txt))\n",
    "\n",
    "        lemmatised_txt = [makeLemma(w, tag) for w, tag in tagged_txt]\n",
    "        lemmatised_txts.append(lemmatised_txt)\n",
    "    return pd.Series(lemmatised_txts).apply(' '.join)"
   ]
  },
  {
   "cell_type": "code",
   "execution_count": 256,
   "metadata": {},
   "outputs": [
    {
     "name": "stdout",
     "output_type": "stream",
     "text": [
      "[====================================================================================================] 100.0% ...\r"
     ]
    }
   ],
   "source": [
    " # PREPROCESS WITH LEMMATISATION\n",
    "# preprocess all title data\n",
    "data['title_processed'] = preProcess(data.title, applyLemmatisation=True).apply(removeSingleChars)\n",
    "\n",
    "# pre process all text data WARNING THIS WILL RUN FOR A LONG TIME\n",
    "data['text_processed'] = preProcess(data.text, applyLemmatisation=True).apply(removeSingleChars)\n",
    "\n",
    "\n",
    "# PREPROCESS WITHOUT LEMMATISATION\n",
    "# preprocess titles w/o lemmatisation\n",
    "data['title_no_lemma'] = preProcess(data.title, applyLemmatisation=False).apply(removeSingleChars)\n",
    "\n",
    "# preprocess texts w/o lemmatisation\n",
    "data['text_no_lemma'] = preProcess(data.text, applyLemmatisation=False).apply(removeSingleChars)\n",
    "\n",
    "\n",
    "# CREATE TITLE AND TEXT COMBINATION OF 200 WORDS OF TEXT\n",
    "# Might run for a long time\n",
    "# UNLEMMATISED\n",
    "data['title_text_no_lemma'] = data.title_no_lemma + data.text_no_lemma.apply(word_tokenize).apply(lambda x: x[:200]).apply(lambda x: ' '.join(x))\n",
    "\n",
    "# LEMMATISED\n",
    "data['title_text_lemma'] = data.title_processed + data.text_processed.apply(word_tokenize).apply(lambda x: x[:200]).apply(lambda x: ' '.join(x))"
   ]
  },
  {
   "cell_type": "code",
   "execution_count": 20,
   "metadata": {},
   "outputs": [],
   "source": [
    "# save data \n",
    "data.to_csv('preprocessedfinished.csv')"
   ]
  },
  {
   "cell_type": "code",
   "execution_count": 5,
   "metadata": {},
   "outputs": [],
   "source": [
    "# load data\n",
    "data = pd.read_csv('preprocessedfinished.csv')\n",
    "cols = ['title_processed', 'title_polarity', 'coleman_liau_title', 'title_pp', 'target']\n"
   ]
  },
  {
   "cell_type": "markdown",
   "metadata": {},
   "source": [
    "# Setting up the baseline\n",
    "\n",
    "I want to do evaluate the performance of several classifiers, across different amount of texts using a variety of text representation techniques. The text representation techniques are:\n",
    "- TF-IDF, word2vec and BERT\n",
    "\n",
    "I evaluate these representations by training classifiers on only the title of an article, the title and the first 200 words of an article, and the full text. In each case a baseline needs to be set up. The baseline performance is set up by taking a look at the literature. There a baseline is found by using TF-IDF, no lemmatisation/stemming, no other features, a max vocabulary of 10000 words. \n",
    "\n",
    "Each algorithm is supplied with some parameters for a baseline. \n",
    "- SVM\n",
    "    -- kernel 'RBF', 'C': 1e3, 'kernel coefficient gamma': 1\n",
    "- RF\n",
    "    -- 500 trees and a maximum number of features of 50\n",
    "\n",
    "Then:\n",
    "- lemmatisation and no additional features\n",
    "- lemmatisation and additional features suggested from literature review\n",
    "\n",
    "title: no lemma, lemma, no lemma + features, lemma + features\n",
    "\n",
    "text: no lemma, lemma, no lemma + features, lemma + features\n",
    "\n",
    "title + text: no lemma, lemma, no lemma + features, lemma + features\n",
    "\n",
    "\n",
    "baseline:\n",
    "parameters from paper\n",
    "no lemma\n",
    "title, text, text + title\n",
    "\n",
    "first experiment:\n",
    "parameters from paper\n",
    "lemma + no lemma\n",
    "other features\n",
    "title, text, text + title\n",
    "\n",
    "select best performing combination for title, text and text + title:\n",
    "then explore other parameters for that combination.\n",
    "\n",
    "then train on all train data and test a final time. save model.\n",
    "\n",
    "when training and testing the final time, be sure to save each trained model for later\n",
    "\n",
    "\n",
    "The data is split in a training and test set. This is done using the train_test_split method from scikit-learn. The test size is always 30%. A random_state variable is initialised to 4578,\n",
    "This means that across iterations the same data is split. I.e. all models will be trained and evaluated on the same samples to ease comparison across classifiers. The training data is further split in a training and validation set. This is done using stratified k-fold cross validation. 5 separate folds are used.\n",
    "\n",
    "# Columns with the name 'processed' refer to lemmatised data\n",
    "# i.e. title_processed and text_processed are the lemmatised titles and full texts respectively"
   ]
  },
  {
   "cell_type": "code",
   "execution_count": null,
   "metadata": {},
   "outputs": [],
   "source": [
    "# results dictionary\n",
    "baseline = {}\n"
   ]
  },
  {
   "cell_type": "code",
   "execution_count": 2,
   "metadata": {},
   "outputs": [],
   "source": [
    "# define the models with parameter settings\n",
    "models = [SVC(kernel='rbf', C=1e3, gamma=1), RandomForestClassifier(n_estimators=500, max_features=50)]\n",
    "maxfeatures = 10000\n",
    "randomState = 4578\n",
    "\n",
    "# define the metrics\n",
    "metrics = ['accuracy', 'f1', 'recall', 'precision', 'roc_auc']"
   ]
  },
  {
   "cell_type": "code",
   "execution_count": 89,
   "metadata": {},
   "outputs": [],
   "source": [
    "def makeBaseline(colname: str):\n",
    "\n",
    "    baseline[colname] = {}\n",
    "\n",
    "    # split data into training and testing\n",
    "    # 30 percent is for testing and 70 for training\n",
    "    train_x, test_x, train_y, test_y = train_test_split(data[colname], data.target, test_size=0.3, random_state=randomState)\n",
    "\n",
    "    # this is a classifier object, can be reused with other algorithms and configurations at a later stage\n",
    "    # stratified k fold is used in the cros-validate method as the estimator is a classifier and y is binary class. \n",
    "\n",
    "    for model in models:\n",
    "    \n",
    "        clf = make_pipeline(TfidfVectorizer(max_features=maxfeatures), model)\n",
    "        modelName = clf.steps[-1][0]\n",
    "        \n",
    "        # add scores dictionary to dictionary of models\n",
    "        baseline[colname][modelName] = cross_validate(clf, train_x, train_y, scoring=metrics, cv=5, n_jobs=-1, verbose=2, return_train_score=False)\n",
    "        \n",
    "    \n"
   ]
  },
  {
   "cell_type": "code",
   "execution_count": 116,
   "metadata": {},
   "outputs": [
    {
     "name": "stderr",
     "output_type": "stream",
     "text": [
      "[Parallel(n_jobs=-1)]: Using backend LokyBackend with 16 concurrent workers.\n",
      "[Parallel(n_jobs=-1)]: Done   5 out of   5 | elapsed: 19.4min finished\n",
      "[Parallel(n_jobs=-1)]: Using backend LokyBackend with 16 concurrent workers.\n",
      "[Parallel(n_jobs=-1)]: Done   5 out of   5 | elapsed:  2.8min finished\n",
      "[Parallel(n_jobs=-1)]: Using backend LokyBackend with 16 concurrent workers.\n",
      "[Parallel(n_jobs=-1)]: Done   5 out of   5 | elapsed: 19.2min finished\n",
      "[Parallel(n_jobs=-1)]: Using backend LokyBackend with 16 concurrent workers.\n",
      "[Parallel(n_jobs=-1)]: Done   5 out of   5 | elapsed:  2.8min finished\n"
     ]
    }
   ],
   "source": [
    "# Set baseline for svm and rf with no lemmatisation and do first experiment with lemmatisation\n",
    "experiments = ['title_no_lemma', 'title_text_no_lemma', 'title_text_lemma', 'text_no_lemma', 'title_processed', 'text_processed']\n",
    "\n",
    "for experiment in experiments:    \n",
    "    makeBaseline(experiment)"
   ]
  },
  {
   "cell_type": "code",
   "execution_count": null,
   "metadata": {},
   "outputs": [],
   "source": [
    "first_experiment= {}"
   ]
  },
  {
   "cell_type": "code",
   "execution_count": 202,
   "metadata": {},
   "outputs": [],
   "source": [
    "def firstExperiment(colname: str, cols: list):\n",
    "    vectorizer = TfidfVectorizer(max_features=maxfeatures)\n",
    "    first_experiment[colname] = {}\n",
    "\n",
    "    features = cols\n",
    "    features.append(colname)\n",
    "    \n",
    "    # split data into training and testing\n",
    "    # 30 percent is for testing and 70 for training\n",
    "    train_x, test_x, train_y, test_y = train_test_split(data[features], data.target, test_size=0.3, random_state=randomState)\n",
    "    for model in models:\n",
    "        column_transformer = ColumnTransformer(\n",
    "            [('tfidf1', vectorizer, colname)],\n",
    "            remainder='passthrough'\n",
    "        )\n",
    "\n",
    "        clf = make_pipeline(column_transformer, model)\n",
    "        # store the model name\n",
    "        modelName = clf.steps[-1][0]\n",
    "\n",
    "        # add scores to the dictionary of results\n",
    "        first_experiment[colname][modelName] = cross_validate(clf, train_x, train_y, scoring=metrics, cv=5, n_jobs=-1, return_train_score=False)"
   ]
  },
  {
   "cell_type": "code",
   "execution_count": 203,
   "metadata": {},
   "outputs": [],
   "source": [
    "# SOMETIMES THE INTERPRETER THROWS AN ERROR WHEN CONDUCTING MULTIPLE EXPERIMENTS CONSECUTIVELY\n",
    "# in this case: just run one experiment at a time.\n",
    "# e.g. first_experiments = ['title_no_lemma']\n",
    "titlecols = [ 'title_polarity', 'title_pp', 'coleman_liau_title']\n",
    "title_first_experiments = ['title_no_lemma', 'title_processed', 'title_text_no_lemma', 'title_text_lemma']\n",
    "\n",
    "\n",
    "for experiment in title_first_experiments:\n",
    "    firstExperiment(colname=experiment, cols=titlecols)\n",
    "\n",
    "# SOMETIMES THE INTERPRETER THROWS AN ERROR WHEN CONDUCTING MULTIPLE EXPERIMENTS CONSECUTIVELY\n",
    "# in this case: just run one experiment at a time.\n",
    "# e.g. text_first_experiments = ['text_polarity']\n",
    "textcols = ['text_polarity', 'coleman_liau_text', 'text_nPP']\n",
    "text_first_experiments = ['text_processed', 'text_no_lemma']\n",
    "\n",
    "for exp in text_first_experiments:\n",
    "    firstExperiment(colname=exp, cols=textcols)\n"
   ]
  },
  {
   "cell_type": "markdown",
   "metadata": {},
   "source": [
    "## intermediary.csv is the final pre-processed dataset."
   ]
  },
  {
   "cell_type": "code",
   "execution_count": 3,
   "metadata": {},
   "outputs": [],
   "source": [
    "data = pd.read_csv('intermediary.csv')"
   ]
  },
  {
   "cell_type": "markdown",
   "metadata": {},
   "source": [
    "# Experiment 2: training and evaluating the algorithms using *word2vec*\n",
    "\n",
    "I begin by creating my own embedding. A unique embedding is needed for the preprocessed titles, texts and title and text combinations. Since my model cannot have seen the testing data when creating the embedding, I first split the data.\n",
    "\n",
    "\n",
    "#"
   ]
  },
  {
   "cell_type": "code",
   "execution_count": 5,
   "metadata": {},
   "outputs": [],
   "source": [
    "# split data into training and testing\n",
    "# 30 percent is for testing and 70 for training\n",
    "# x is all columns apart from raw data and the target column\n",
    "# y is the target column\n",
    "train_x, test_x, train_y, test_y = train_test_split(data.iloc[:,3:], data.target, test_size=0.3, random_state=randomState)"
   ]
  },
  {
   "cell_type": "code",
   "execution_count": 10,
   "metadata": {},
   "outputs": [],
   "source": [
    "# Create separate embeddings for the titles, texts, and title-text combinations. \n",
    "\n",
    "# title\n",
    "wv_title_lem = gensim.models.Word2Vec(train_x.title_processed.apply(word_tokenize), vector_size=100, min_count=1)\n",
    "wv_title_no_lem = gensim.models.Word2Vec(train_x.title_no_lemma.apply(word_tokenize), vector_size=100, min_count=1)\n",
    "\n",
    "# text\n",
    "wv_text_lem = gensim.models.Word2Vec(train_x.text_processed.apply(word_tokenize), vector_size=100, min_count=1)\n",
    "wv_text_no_lem = gensim.models.Word2Vec(train_x.text_no_lemma.apply(word_tokenize), vector_size=100, min_count=1)\n",
    "\n",
    "# title-text\n",
    "wv_tit_txt_lem = gensim.models.Word2Vec(train_x.title_text_lemma.apply(word_tokenize), vector_size=100, min_count=1)\n",
    "wv_tit_txt_no_lem = gensim.models.Word2Vec(train_x.title_text_no_lemma.apply(word_tokenize), vector_size=100, min_count=1)"
   ]
  },
  {
   "cell_type": "code",
   "execution_count": 11,
   "metadata": {},
   "outputs": [],
   "source": [
    "# save a word2vec embedding\n",
    "#wv_title_lem.wv.save_word2vec_format('wv_title_lem.bin')\n",
    "# wv_title_no_lem.wv.save_word2vec_format('wv_title_no_lem.bin')\n",
    "# wv_title_no_lem.wv.save_word2vec_format('wv_title_no_lem')\n",
    "\n",
    "# title text embeddings\n",
    "wv_tit_txt_lem.save('wv_tit_txt_lem.model')\n",
    "wv_tit_txt_no_lem.save('wv_tit_txt_no_lem.model')\n",
    "\n",
    "# text embeddings\n",
    "wv_text_lem.save('wv_text_lem.model')\n",
    "wv_text_no_lem.save('wv_text_no_lem.model')"
   ]
  },
  {
   "cell_type": "code",
   "execution_count": 12,
   "metadata": {},
   "outputs": [],
   "source": [
    "# Creat a class that makes vectors of equal length of a word2vec embedding\n",
    "class Wv2Sequence():\n",
    "    def __init__(self, embedding: gensim.models.keyedvectors.KeyedVectors, vocab: set, sequenceLength: int):\n",
    "        self.embedding = embedding\n",
    "        self.sequenceLength = sequenceLength\n",
    "        self.vocab = vocab\n",
    "    \n",
    "    \n",
    "    def getvectors(self, txt):\n",
    "        # This method returns the Word2Vec vector for a \n",
    "        #  sequence of words in a text\n",
    "        # if the words exist in the embedding\n",
    "        output = []\n",
    "        for word in txt:\n",
    "            if word in self.vocab:\n",
    "                output.append(self.embedding[word])\n",
    "            else:\n",
    "                pass\n",
    "        return np.asarray(output)\n",
    "    \n",
    "    def txtToSequence(self, txt: str | pd.core.series.Series):\n",
    "        if type(txt) == str:\n",
    "            txt = pd.Series(txt)\n",
    "        \n",
    "        # Tokenise the input, get vectors for all words in vocabulary, remove unknown words\n",
    "        # convert to numpy array and concatenate\n",
    "        text_vector =  np.concatenate(np.asarray(txt.apply(word_tokenize).apply(self.getvectors).dropna()), axis=None)\n",
    "        \n",
    "\n",
    "        \n",
    "        if len(text_vector) < self.sequenceLength:\n",
    "            # if the length of the vector is shorter than the max length, pad the vector with additional zeroes\n",
    "            diff = self.sequenceLength - len(text_vector)\n",
    "            return np.concatenate((text_vector, np.zeros(diff)), axis=None)\n",
    "        else:\n",
    "            # if the vector is longer than allowed, or equal\n",
    "            # I return the maximum number of tokens\n",
    "            return text_vector[:self.sequenceLength]\n",
    "    \n",
    "    @staticmethod\n",
    "    def conductPCA(vector: np.ndarray, name:str, n_comp: list) -> None:\n",
    "        # conduct principal component analysis for the current word2vec embedding\n",
    "        for n in n_comp:\n",
    "            pca = PCA(n_components=n)\n",
    "            pca.fit(vector)\n",
    "            print(name, 'Variance explained with {n} components:'.format(n=n), sum(pca.explained_variance_ratio_))\n",
    "    \n",
    "    @staticmethod\n",
    "    def reformatVector(n_components: int, vector: np.ndarray) -> np.ndarray:\n",
    "        pca = PCA(n_components=n_components)\n",
    "\n",
    "\n",
    "        pca.fit(vector)\n",
    "        return pca.transform(vector)\n",
    "\n",
    "\n",
    "        \n"
   ]
  },
  {
   "cell_type": "code",
   "execution_count": 13,
   "metadata": {},
   "outputs": [],
   "source": [
    "embeddings = ['wv_title_lem.bin']\n",
    "\n",
    "# Creat a sequence for title\n",
    "title_sequence = Wv2Sequence(embedding=wv_title_lem.wv, vocab=set(wv_title_lem.wv.index_to_key), sequenceLength=1000)\n",
    "title_sequence_no_lemma = Wv2Sequence(embedding=wv_title_no_lem.wv, vocab=set(wv_title_no_lem.wv.index_to_key), sequenceLength=1000)\n",
    "\n",
    "# sequence for title + text\n",
    "tit_txt_lem_seq = Wv2Sequence(embedding=wv_tit_txt_lem.wv, vocab=set(wv_tit_txt_lem.wv.index_to_key), sequenceLength=1000)\n",
    "tit_txt_seq = Wv2Sequence(embedding=wv_tit_txt_no_lem.wv, vocab=set(wv_tit_txt_no_lem.wv.index_to_key), sequenceLength=1000)\n",
    "\n",
    "# sequence for text\n",
    "txt_lem_seq = Wv2Sequence(embedding=wv_text_lem.wv, vocab=set(wv_text_lem.wv.index_to_key), sequenceLength=1000)\n",
    "txt_no_lem_seq = Wv2Sequence(embedding=wv_text_no_lem.wv, vocab=set(wv_text_no_lem.wv.index_to_key), sequenceLength=1000)"
   ]
  },
  {
   "cell_type": "code",
   "execution_count": 14,
   "metadata": {},
   "outputs": [],
   "source": [
    "# convert training x data to vectors\n",
    "train_x_vector = np.array(train_x.title_processed.apply(title_sequence.txtToSequence).tolist())\n",
    "train_x_title_no_lemma = np.array(train_x.title_no_lemma.apply(title_sequence_no_lemma.txtToSequence).tolist())\n",
    "\n",
    "\n",
    "\n",
    "# title + txt with lemma and no lemma\n",
    "train_x_tit_text_lem = np.array(train_x.title_text_lemma.apply(tit_txt_lem_seq.txtToSequence).tolist())\n",
    "train_x_tit_text = np.array(train_x.title_text_no_lemma.apply(tit_txt_seq.txtToSequence).tolist())\n",
    "\n",
    "# text with lemma and no lemma\n",
    "train_x_txt_lem = np.array(train_x.text_processed.apply(txt_lem_seq.txtToSequence).tolist())\n",
    "train_x_txt_no_lem = np.array(train_x.text_no_lemma.apply(txt_no_lem_seq.txtToSequence).tolist())"
   ]
  },
  {
   "cell_type": "markdown",
   "metadata": {},
   "source": [
    "### a Sequencer and an embedding have been created\n",
    "\n",
    "Each vector has a 1000 dimensions. Lets see if it is possible to reduce the number of dimensions and thus speed up the training process of the SVC and RF.\n",
    "The cell below shows that with merely a 150 features more than 99% of the variance can be explained. So I will reformat the vectors to only include 150 features in the case of the titles. \n",
    "For the full text and title and text combinations 900 features are used, because this explains the highest level of variance according to the principal component analysis."
   ]
  },
  {
   "cell_type": "code",
   "execution_count": 309,
   "metadata": {},
   "outputs": [
    {
     "name": "stdout",
     "output_type": "stream",
     "text": [
      "Variance explained with 10 components: 0.4834727061202252\n",
      "Variance explained with 50 components: 0.8909674818947819\n",
      "Variance explained with 100 components: 0.9728365669836249\n",
      "Variance explained with 150 components: 0.9910729706478808\n",
      "Variance explained with 200 components: 0.9959835697962441\n",
      "Variance explained with 500 components: 0.9995518999272862\n"
     ]
    }
   ],
   "source": [
    "# conduct principal component analysis to find the vector dimensionality that explains the variance well\n",
    "title_sequence.conductPCA(train_x_vector, 'title_text', n_comp=[10,50,100,150,200,500])\n"
   ]
  },
  {
   "cell_type": "code",
   "execution_count": 25,
   "metadata": {},
   "outputs": [
    {
     "name": "stdout",
     "output_type": "stream",
     "text": [
      "title+text Variance explained with 200 components: 0.6432071315357462\n",
      "title+text Variance explained with 500 components: 0.8758153296075761\n",
      "title+text Variance explained with 700 components: 0.9477778908476466\n",
      "title+text Variance explained with 800 components: 0.9721950485545676\n",
      "title+text Variance explained with 900 components: 0.9891475721233292\n",
      "title+text+lemma Variance explained with 200 components: 0.6620007844156199\n",
      "title+text+lemma Variance explained with 500 components: 0.8676487857574081\n",
      "title+text+lemma Variance explained with 700 components: 0.9400107278175819\n",
      "title+text+lemma Variance explained with 800 components: 0.9670962576317521\n",
      "title+text+lemma Variance explained with 900 components: 0.9865324020413246\n"
     ]
    }
   ],
   "source": [
    "tit_txt_seq.conductPCA(train_x_tit_text, 'title+text',n_comp = [200, 500,700,800,900])\n",
    "tit_txt_lem_seq.conductPCA(train_x_tit_text_lem, 'title+text+lemma',n_comp = [200, 500,700,800,900])"
   ]
  },
  {
   "cell_type": "code",
   "execution_count": 29,
   "metadata": {},
   "outputs": [],
   "source": [
    "# the best trade off between bias and variance is 900 components. so reformat the vectors.\n",
    "train_x_tit_text = tit_txt_seq.reformatVector(n_components=900, vector=train_x_tit_text)\n",
    "train_x_tit_text_lem = tit_txt_lem_seq.reformatVector(n_components=900, vector=train_x_tit_text_lem)\n"
   ]
  },
  {
   "cell_type": "code",
   "execution_count": 15,
   "metadata": {},
   "outputs": [
    {
     "name": "stdout",
     "output_type": "stream",
     "text": [
      "text lemma Variance explained with 200 components: 0.6379326427170179\n",
      "text lemma Variance explained with 500 components: 0.8519898919775294\n",
      "text lemma Variance explained with 700 components: 0.9316732304101148\n",
      "text lemma Variance explained with 800 components: 0.9632410452614386\n",
      "text lemma Variance explained with 900 components: 0.9863386506003927\n",
      "text no lemma Variance explained with 200 components: 0.6603709773159577\n",
      "text no lemma Variance explained with 500 components: 0.8699203402916205\n",
      "text no lemma Variance explained with 700 components: 0.942591802640539\n",
      "text no lemma Variance explained with 800 components: 0.9699019729366114\n",
      "text no lemma Variance explained with 900 components: 0.9894514503460533\n"
     ]
    }
   ],
   "source": [
    "# conduct pca for the texts then reformat vectors\n",
    "txt_lem_seq.conductPCA(train_x_txt_lem, 'text lemma',n_comp = [200, 500,700,800,900])\n",
    "txt_no_lem_seq.conductPCA(train_x_txt_no_lem, 'text no lemma',n_comp = [200, 500,700,800,900])\n"
   ]
  },
  {
   "cell_type": "code",
   "execution_count": 16,
   "metadata": {},
   "outputs": [],
   "source": [
    "# best score was with 900 components out of a max of thousand so that is what I pick\n",
    "train_x_txt_lem = txt_lem_seq.reformatVector(n_components=900, vector=train_x_txt_lem)\n",
    "\n",
    "train_x_txt_no_lem = txt_no_lem_seq.reformatVector(n_components=900, vector=train_x_txt_no_lem)"
   ]
  },
  {
   "cell_type": "code",
   "execution_count": 380,
   "metadata": {},
   "outputs": [],
   "source": [
    "pca = PCA(n_components=150)\n",
    "# pca.fit(train_x_vector)\n",
    "# train_x_vector = pca.transform(train_x_vector)\n",
    "pca.fit(train_x_title_no_lemma)\n",
    "train_x_title_no_lemma = pca.transform(train_x_title_no_lemma)"
   ]
  },
  {
   "cell_type": "code",
   "execution_count": 315,
   "metadata": {},
   "outputs": [],
   "source": [
    "pd.DataFrame(train_x_vector).to_csv('title_lemma_w2v_processed.csv')"
   ]
  },
  {
   "cell_type": "markdown",
   "metadata": {},
   "source": [
    "## Training the models using the Word2vec embedding\n",
    "\n",
    "I now create a custom function to train and evaluate the support vector machine and random forest classifier using the Word2Vec text representation.\n",
    "Cross-validation is used again. So a validation dataset is set aside from the training data. The results are stored in a dictionary.\n",
    "\n",
    "This is done for the lemmatised and unlemmatised data, in conjunction with and without the linguistic features.\n",
    "So the titles are evaluated a total of four times, and the same goes for the full texts and the titles and texts."
   ]
  },
  {
   "cell_type": "code",
   "execution_count": 17,
   "metadata": {},
   "outputs": [],
   "source": [
    "# train the rf and svc models and store scores\n",
    "def evalW2V(data_x, data_y,mapping: dict, name: str):\n",
    "    mapping[name] = {}\n",
    "    for model in models:\n",
    "    \n",
    "        \n",
    "        modelName = type(model).__name__\n",
    "        \n",
    "        # add scores dictionary to dictionary of models\n",
    "        mapping[name][modelName] = cross_validate(model, data_x, data_y, scoring=metrics, cv=2, n_jobs=-1, verbose=1, return_train_score=False)"
   ]
  },
  {
   "cell_type": "code",
   "execution_count": 18,
   "metadata": {},
   "outputs": [],
   "source": [
    "w2v_results = {}"
   ]
  },
  {
   "cell_type": "code",
   "execution_count": 335,
   "metadata": {},
   "outputs": [
    {
     "name": "stderr",
     "output_type": "stream",
     "text": [
      "[Parallel(n_jobs=-1)]: Using backend LokyBackend with 16 concurrent workers.\n",
      "[Parallel(n_jobs=-1)]: Done   5 out of   5 | elapsed: 14.9min finished\n",
      "[Parallel(n_jobs=-1)]: Using backend LokyBackend with 16 concurrent workers.\n",
      "[Parallel(n_jobs=-1)]: Done   5 out of   5 | elapsed: 23.8min finished\n"
     ]
    }
   ],
   "source": [
    "# Train and evaluate the lemmatised titles\n",
    "# with and without linguistic features\n",
    "evalW2V(data_x=train_x_vector, data_y=train_y, mapping=w2v_results, name='title_processed')\n",
    "evalW2V(data_x=np.concatenate((train_x_vector,train_x.iloc[:,1:4].to_numpy()), axis=1), data_y=train_y, mapping=w2v_results, name='title_processed_features')\n",
    "\n",
    "# train and evaluate the unlemmatised titles\n",
    "# with and without linguistic features\n",
    "evalW2V(data_x=train_x_title_no_lemma, data_y=train_y, mapping=w2v_results, name='title_no_lemma')\n",
    "evalW2V(data_x=np.concatenate((train_x_title_no_lemma,train_x.iloc[:,1:4].to_numpy()), axis=1), data_y=train_y, mapping=w2v_results, name='title_no_lemma_features')"
   ]
  },
  {
   "cell_type": "code",
   "execution_count": 33,
   "metadata": {},
   "outputs": [
    {
     "name": "stderr",
     "output_type": "stream",
     "text": [
      "[Parallel(n_jobs=-1)]: Using backend LokyBackend with 16 concurrent workers.\n",
      "[Parallel(n_jobs=-1)]: Done   2 out of   2 | elapsed: 18.3min finished\n",
      "[Parallel(n_jobs=-1)]: Using backend LokyBackend with 16 concurrent workers.\n",
      "[Parallel(n_jobs=-1)]: Done   2 out of   2 | elapsed: 14.1min finished\n",
      "[Parallel(n_jobs=-1)]: Using backend LokyBackend with 16 concurrent workers.\n",
      "[Parallel(n_jobs=-1)]: Done   2 out of   2 | elapsed: 18.3min finished\n",
      "[Parallel(n_jobs=-1)]: Using backend LokyBackend with 16 concurrent workers.\n",
      "[Parallel(n_jobs=-1)]: Done   2 out of   2 | elapsed: 16.7min finished\n"
     ]
    }
   ],
   "source": [
    "# train and evaluate the lemmatised and unlemmatised title and text combination\n",
    "evalW2V(data_x=train_x_tit_text, data_y=train_y, mapping=w2v_results, name='tit_txt_no_lemma')\n",
    "evalW2V(data_x=train_x_tit_text_lem, data_y=train_y, mapping=w2v_results, name='tit_txt_lemma')\n",
    "\n",
    "# train and evaluate the lemmatised and unlemmatised title and text combination\n",
    "# with additional linguistic features\n",
    "evalW2V(data_x=np.concatenate((train_x_tit_text,train_x.iloc[:,5:8].to_numpy()), axis=1), data_y=train_y, mapping=w2v_results, name='tit_txt_no_lemma_features')\n",
    "evalW2V(data_x=np.concatenate((train_x_tit_text_lem,train_x.iloc[:,5:8].to_numpy()), axis=1), data_y=train_y, mapping=w2v_results, name='tit_txt_lemma_features')\n",
    "pd.DataFrame(w2v_results).to_csv('w2v_tit_txt2.csv')\n",
    "#pd.DataFrame(w2v_results).to_csv('w2v_tit_txt.csv')\n"
   ]
  },
  {
   "cell_type": "code",
   "execution_count": 22,
   "metadata": {},
   "outputs": [
    {
     "name": "stderr",
     "output_type": "stream",
     "text": [
      "[Parallel(n_jobs=-1)]: Using backend LokyBackend with 16 concurrent workers.\n",
      "[Parallel(n_jobs=-1)]: Done   2 out of   2 | elapsed: 18.4min finished\n",
      "[Parallel(n_jobs=-1)]: Using backend LokyBackend with 16 concurrent workers.\n",
      "[Parallel(n_jobs=-1)]: Done   2 out of   2 | elapsed: 16.7min finished\n",
      "[Parallel(n_jobs=-1)]: Using backend LokyBackend with 16 concurrent workers.\n",
      "[Parallel(n_jobs=-1)]: Done   2 out of   2 | elapsed: 15.9min finished\n",
      "[Parallel(n_jobs=-1)]: Using backend LokyBackend with 16 concurrent workers.\n",
      "[Parallel(n_jobs=-1)]: Done   2 out of   2 | elapsed: 16.0min finished\n",
      "[Parallel(n_jobs=-1)]: Using backend LokyBackend with 16 concurrent workers.\n",
      "[Parallel(n_jobs=-1)]: Done   2 out of   2 | elapsed: 17.1min finished\n",
      "[Parallel(n_jobs=-1)]: Using backend LokyBackend with 16 concurrent workers.\n",
      "[Parallel(n_jobs=-1)]: Done   2 out of   2 | elapsed: 15.6min finished\n",
      "[Parallel(n_jobs=-1)]: Using backend LokyBackend with 16 concurrent workers.\n",
      "[Parallel(n_jobs=-1)]: Done   2 out of   2 | elapsed: 17.9min finished\n",
      "[Parallel(n_jobs=-1)]: Using backend LokyBackend with 16 concurrent workers.\n",
      "[Parallel(n_jobs=-1)]: Done   2 out of   2 | elapsed: 15.7min finished\n"
     ]
    }
   ],
   "source": [
    "# train and evaluate all texts vectors\n",
    "\n",
    "# no features lemma optional\n",
    "evalW2V(data_x=train_x_txt_lem, data_y=train_y, mapping=w2v_results, name='full_txt_lemma')\n",
    "evalW2V(data_x=train_x_txt_no_lem, data_y=train_y, mapping=w2v_results, name='full_txt_no_lemma')\n",
    "\n",
    "# features lemma optional\n",
    "evalW2V(data_x=np.concatenate((train_x_txt_lem,train_x.iloc[:,9:12].to_numpy()), axis=1), data_y=train_y, mapping=w2v_results, name='full_txt_no_lemma_features')\n",
    "evalW2V(data_x=np.concatenate((train_x_txt_no_lem,train_x.iloc[:,9:12].to_numpy()), axis=1), data_y=train_y, mapping=w2v_results, name='full_txt_lemma_features')\n",
    "\n",
    "# save results\n",
    "pd.DataFrame(w2v_results).to_csv('w2v_full_text1.csv')\n",
    "\n",
    "# store results again\n",
    "pd.DataFrame(w2v_results).to_csv('w2v_tit_txt3.csv')\n",
    "pd.DataFrame(w2v_results).to_csv('w2v_title.csv')\n"
   ]
  },
  {
   "cell_type": "markdown",
   "metadata": {},
   "source": [
    "# Evaluation of experiment 1 and 2\n",
    "\n",
    "A baseline has been set. Experiment 1, using tf-idf, and experiment 2, using word2vec, have been conducted. I will now show the results in a table, to determine what the best combination of features and text representation is. This is judged on accuracy. Once I know what the optimal combination is, I can it to further explore the parameter settings in the following section."
   ]
  },
  {
   "cell_type": "markdown",
   "metadata": {},
   "source": [
    "### data formatting\n",
    "\n",
    "The results have been stored in dictionaries. I converted them to dataframes, but this made strings of the numpy arrays. I now need to do some formatting and conversion to be able to appropriately use them and restore these strings to the arrays they originally were."
   ]
  },
  {
   "cell_type": "code",
   "execution_count": 2,
   "metadata": {},
   "outputs": [],
   "source": [
    "def clfDataToJSON(data: str) -> dict:\n",
    "\n",
    "    # replace: newline character, array(, ) with empty string, and switch single quotes\n",
    "    # return dictionary\n",
    "    return json.loads(data.replace('\\n', '').replace('array(', '').replace(')', '').replace(\"'\", '\"'))"
   ]
  },
  {
   "cell_type": "code",
   "execution_count": 60,
   "metadata": {},
   "outputs": [],
   "source": [
    "def jsonToDataframe(filename:str, cols: list, features: bool, txt_represent: str) -> pd.DataFrame:\n",
    "    # instantiate a result dictionary\n",
    "    res = {}\n",
    "    res['svc'] = {}\n",
    "    res['randomforestclassifier'] = {}\n",
    "    data = pd.read_csv(filename)\n",
    "    \n",
    "    # for all columns that I am interested in, get the data and format it using the string replace techniques\n",
    "    # store the results in the dictionary\n",
    "    for col in cols:\n",
    "        res['svc'][col] = clfDataToJSON(data[:1][col].to_dict()[0])\n",
    "        res['randomforestclassifier'][col] = clfDataToJSON(data[1:][col].to_dict()[1])\n",
    "    \n",
    "    # make dataframes from the results and join them\n",
    "    svc_df = pd.DataFrame.from_dict(res['svc'])#\n",
    "    rf_df = pd.DataFrame.from_dict(res['randomforestclassifier'])#\n",
    "    svc_df['classifier'] = 'SVC'\n",
    "    rf_df['classifier'] = 'randomforestclassifier'\n",
    "    combined = pd.concat((svc_df, rf_df)).reset_index()\n",
    "\n",
    "    # add the feature value, this specifies whether the linguistic features have been applied or not\n",
    "    combined['features'] = features\n",
    "\n",
    "    # add the text representation technique\n",
    "    combined['technique'] = txt_represent\n",
    "\n",
    "    # calculate the mean scores of the columns\n",
    "    # combine with the other columns to return the dataframe in a better format\n",
    "    combined = pd.concat((combined[['classifier', 'technique', 'features', 'index']],combined.iloc[:,1:7].map(np.mean)), axis=1)\n",
    "\n",
    "    # rename some odd  column names\n",
    "    combined.rename(columns={'index':'metrics', 'title_processed': 'title_lemma', 'text_processed': 'text_lemma'}, inplace=True)\n",
    "\n",
    "    \n",
    "\n",
    "\n",
    "\n",
    "    return combined"
   ]
  },
  {
   "cell_type": "code",
   "execution_count": 61,
   "metadata": {},
   "outputs": [],
   "source": [
    "\n",
    "cols = ['title_no_lemma', 'text_no_lemma', 'title_processed', 'text_processed', 'title_text_no_lemma', 'title_text_lemma']\n",
    "\n",
    "# baseline experiments are:\n",
    "# tf-idf, no lemmatisation, no features\n",
    "# title_no_lemma, text_no_lemma title_text_no_lemma\n",
    "base_and_exp1 = jsonToDataframe(filename='baseline.csv', cols=cols, features=False, txt_represent='tf-idf')\n",
    "\n",
    "# first experiments are:\n",
    "# tf-idf, lemmatisation (optional), features\n",
    "exp1_features = jsonToDataframe(filename='firstexperiment2.csv', cols=cols, features=True, txt_represent='tf-idf')\n",
    "\n",
    "\n",
    "\n",
    "#pd.DataFrame(clfDataToJSON(baseline[:1]['title_no_lemma'].to_dict()[0]))"
   ]
  },
  {
   "cell_type": "code",
   "execution_count": 82,
   "metadata": {},
   "outputs": [],
   "source": [
    "# the word2vec data has been stored in a different manner. The dictionary is represented differently so it needs its own method\n",
    "def formatWord2vecPandas(df: str, cols: list, txt_technique: str) -> pd.DataFrame:\n",
    "    res = {}\n",
    "    res['svc'] = {}\n",
    "    res['randomforestclassifier'] = {}\n",
    "    data = pd.read_csv(df)\n",
    "\n",
    "    for col in cols:\n",
    "        res['svc'][col] = clfDataToJSON(data[col].to_dict()[0])\n",
    "        res['randomforestclassifier'][col] = clfDataToJSON(data[col].to_dict()[1])\n",
    "    svc_df = pd.DataFrame.from_dict(res['svc'])#\n",
    "    rf_df = pd.DataFrame.from_dict(res['randomforestclassifier'])#\n",
    "    svc_df['classifier'] = 'SVC'\n",
    "    rf_df['classifier'] = 'randomforestclassifier'\n",
    "    combined = pd.concat((svc_df, rf_df)).reset_index()\n",
    "\n",
    "    combined['technique'] = txt_technique\n",
    "    \n",
    "    # calculate the mean of the array columns, re-order the columns\n",
    "    combined = pd.concat((combined[['classifier', 'technique', 'index']],combined.iloc[:,1:5].map(np.mean)), axis=1)\n",
    "\n",
    "    combined.rename(columns={'index': 'metrics'}, inplace=True)\n",
    "\n",
    "    return combined"
   ]
  },
  {
   "cell_type": "code",
   "execution_count": 83,
   "metadata": {},
   "outputs": [],
   "source": [
    "# Now get the results of experiment 2: the word2vec representation\n",
    "w2v_files = {'w2v_title.csv':['title_processed',\t'title_processed_features',\t'title_no_lemma',\t'title_no_lemma_features'], \n",
    "'w2v_tit_txt3.csv': [ 'tit_txt_no_lemma',\t'tit_txt_lemma',\t'tit_txt_no_lemma_features',\t'tit_txt_lemma_features',],\n",
    "'w2v_full_text1.csv': [ 'full_txt_lemma',\t'full_txt_no_lemma',\t'full_txt_no_lemma_features',\t'full_txt_lemma_features']}\n",
    "\n",
    "# this list will contain dataframes of the word2vec results\n",
    "w2v_data = []\n",
    "for k, v in enumerate(w2v_files):\n",
    "    w2v_data.append(formatWord2vecPandas(v, w2v_files[v], txt_technique='word2vec'))"
   ]
  },
  {
   "cell_type": "code",
   "execution_count": 121,
   "metadata": {},
   "outputs": [],
   "source": [
    "# rename some columns for better comprehension\n",
    "w2v_data[0].rename(columns={'title_processed':'title_lemma', 'title_processed_features': 'title_lemma_features'}, inplace=True)"
   ]
  },
  {
   "cell_type": "markdown",
   "metadata": {},
   "source": [
    "# Evaluation of results\n",
    "\n",
    "# The cell below shows the results of the baseline and experiment 1 and 2 in a series of tables\n",
    "\n",
    "\n",
    "what is interesting is that it shows that when it comes to tf-idf\n",
    "the support vector machine with no lemmatisation and no additional features performs the best\n",
    "in all three experiments: title, title and text, full text\n",
    "\n",
    "the accuracy scores are the mean results of the stratified k-fold cross validation\n",
    "\n",
    "when it comes to word2vec the random forest classifier with lemmatisation and addtional features performs the best in all three \n",
    "experiments: title, title and text, full text\n",
    "\n",
    "my reasoning for this: tf-idf has already a lot of features, these are not that intelligble or helpful. less features is more. in this case\n",
    "the word2vec embedding is not very useful and may be too small. the adiditonal features help in this instance.\n",
    "\n",
    "\n",
    "the random forest classifier of tf-idf outperforms the random forest classifier trained with word2vec\n",
    "I will conduct a parameter optimisation grid search\n",
    "with tf-idf, and test both classifiers. Eachwill then be trained and tested a final time"
   ]
  },
  {
   "cell_type": "code",
   "execution_count": 122,
   "metadata": {},
   "outputs": [
    {
     "name": "stdout",
     "output_type": "stream",
     "text": [
      "SHOW THE RESULTS OF THE BASELINE AND EXPERIMENT 1 IN A DATAFRAME\n"
     ]
    },
    {
     "data": {
      "text/html": [
       "<div>\n",
       "<style scoped>\n",
       "    .dataframe tbody tr th:only-of-type {\n",
       "        vertical-align: middle;\n",
       "    }\n",
       "\n",
       "    .dataframe tbody tr th {\n",
       "        vertical-align: top;\n",
       "    }\n",
       "\n",
       "    .dataframe thead th {\n",
       "        text-align: right;\n",
       "    }\n",
       "</style>\n",
       "<table border=\"1\" class=\"dataframe\">\n",
       "  <thead>\n",
       "    <tr style=\"text-align: right;\">\n",
       "      <th></th>\n",
       "      <th>classifier</th>\n",
       "      <th>technique</th>\n",
       "      <th>features</th>\n",
       "      <th>metrics</th>\n",
       "      <th>title_no_lemma</th>\n",
       "      <th>text_no_lemma</th>\n",
       "      <th>title_lemma</th>\n",
       "      <th>text_lemma</th>\n",
       "      <th>title_text_no_lemma</th>\n",
       "      <th>title_text_lemma</th>\n",
       "    </tr>\n",
       "  </thead>\n",
       "  <tbody>\n",
       "    <tr>\n",
       "      <th>2</th>\n",
       "      <td>SVC</td>\n",
       "      <td>tf-idf</td>\n",
       "      <td>False</td>\n",
       "      <td>test_accuracy</td>\n",
       "      <td>0.910767</td>\n",
       "      <td>0.970149</td>\n",
       "      <td>0.900156</td>\n",
       "      <td>0.968519</td>\n",
       "      <td>0.953913</td>\n",
       "      <td>0.955863</td>\n",
       "    </tr>\n",
       "    <tr>\n",
       "      <th>9</th>\n",
       "      <td>randomforestclassifier</td>\n",
       "      <td>tf-idf</td>\n",
       "      <td>False</td>\n",
       "      <td>test_accuracy</td>\n",
       "      <td>0.896801</td>\n",
       "      <td>0.950494</td>\n",
       "      <td>0.886701</td>\n",
       "      <td>0.951868</td>\n",
       "      <td>0.933491</td>\n",
       "      <td>0.937166</td>\n",
       "    </tr>\n",
       "    <tr>\n",
       "      <th>2</th>\n",
       "      <td>SVC</td>\n",
       "      <td>tf-idf</td>\n",
       "      <td>True</td>\n",
       "      <td>test_accuracy</td>\n",
       "      <td>0.862284</td>\n",
       "      <td>0.828885</td>\n",
       "      <td>0.850395</td>\n",
       "      <td>0.814280</td>\n",
       "      <td>0.915785</td>\n",
       "      <td>0.916552</td>\n",
       "    </tr>\n",
       "    <tr>\n",
       "      <th>9</th>\n",
       "      <td>randomforestclassifier</td>\n",
       "      <td>tf-idf</td>\n",
       "      <td>True</td>\n",
       "      <td>test_accuracy</td>\n",
       "      <td>0.894819</td>\n",
       "      <td>0.948960</td>\n",
       "      <td>0.889162</td>\n",
       "      <td>0.950973</td>\n",
       "      <td>0.934737</td>\n",
       "      <td>0.937870</td>\n",
       "    </tr>\n",
       "  </tbody>\n",
       "</table>\n",
       "</div>"
      ],
      "text/plain": [
       "               classifier technique  features        metrics  title_no_lemma  \\\n",
       "2                     SVC    tf-idf     False  test_accuracy        0.910767   \n",
       "9  randomforestclassifier    tf-idf     False  test_accuracy        0.896801   \n",
       "2                     SVC    tf-idf      True  test_accuracy        0.862284   \n",
       "9  randomforestclassifier    tf-idf      True  test_accuracy        0.894819   \n",
       "\n",
       "   text_no_lemma  title_lemma  text_lemma  title_text_no_lemma  \\\n",
       "2       0.970149     0.900156    0.968519             0.953913   \n",
       "9       0.950494     0.886701    0.951868             0.933491   \n",
       "2       0.828885     0.850395    0.814280             0.915785   \n",
       "9       0.948960     0.889162    0.950973             0.934737   \n",
       "\n",
       "   title_text_lemma  \n",
       "2          0.955863  \n",
       "9          0.937166  \n",
       "2          0.916552  \n",
       "9          0.937870  "
      ]
     },
     "metadata": {},
     "output_type": "display_data"
    },
    {
     "name": "stdout",
     "output_type": "stream",
     "text": [
      "=================================================================\n",
      "\n",
      "SHOW THE RESULTS OF EXPERIMENT 2 IN A DATAFRAME\n",
      "\n",
      "THESE ARE THE RESULTS OF THE EXPERIMENT ON THE TITLE\n",
      "\n"
     ]
    },
    {
     "data": {
      "text/html": [
       "<div>\n",
       "<style scoped>\n",
       "    .dataframe tbody tr th:only-of-type {\n",
       "        vertical-align: middle;\n",
       "    }\n",
       "\n",
       "    .dataframe tbody tr th {\n",
       "        vertical-align: top;\n",
       "    }\n",
       "\n",
       "    .dataframe thead th {\n",
       "        text-align: right;\n",
       "    }\n",
       "</style>\n",
       "<table border=\"1\" class=\"dataframe\">\n",
       "  <thead>\n",
       "    <tr style=\"text-align: right;\">\n",
       "      <th></th>\n",
       "      <th>classifier</th>\n",
       "      <th>technique</th>\n",
       "      <th>metrics</th>\n",
       "      <th>title_lemma</th>\n",
       "      <th>title_lemma_features</th>\n",
       "      <th>title_no_lemma</th>\n",
       "      <th>title_no_lemma_features</th>\n",
       "    </tr>\n",
       "  </thead>\n",
       "  <tbody>\n",
       "    <tr>\n",
       "      <th>2</th>\n",
       "      <td>SVC</td>\n",
       "      <td>word2vec</td>\n",
       "      <td>test_accuracy</td>\n",
       "      <td>0.543897</td>\n",
       "      <td>0.541053</td>\n",
       "      <td>0.541372</td>\n",
       "      <td>0.540286</td>\n",
       "    </tr>\n",
       "    <tr>\n",
       "      <th>9</th>\n",
       "      <td>randomforestclassifier</td>\n",
       "      <td>word2vec</td>\n",
       "      <td>test_accuracy</td>\n",
       "      <td>0.845856</td>\n",
       "      <td>0.854166</td>\n",
       "      <td>0.842501</td>\n",
       "      <td>0.849755</td>\n",
       "    </tr>\n",
       "  </tbody>\n",
       "</table>\n",
       "</div>"
      ],
      "text/plain": [
       "               classifier technique        metrics  title_lemma  \\\n",
       "2                     SVC  word2vec  test_accuracy     0.543897   \n",
       "9  randomforestclassifier  word2vec  test_accuracy     0.845856   \n",
       "\n",
       "   title_lemma_features  title_no_lemma  title_no_lemma_features  \n",
       "2              0.541053        0.541372                 0.540286  \n",
       "9              0.854166        0.842501                 0.849755  "
      ]
     },
     "metadata": {},
     "output_type": "display_data"
    },
    {
     "name": "stdout",
     "output_type": "stream",
     "text": [
      "\n",
      "\n",
      "\n",
      "THESE ARE THE RESULTS OF THE EXPERIMENT ON THE TITLE AND FIRST 200 WORDS OF THE ARTICLE\n",
      "\n"
     ]
    },
    {
     "data": {
      "text/html": [
       "<div>\n",
       "<style scoped>\n",
       "    .dataframe tbody tr th:only-of-type {\n",
       "        vertical-align: middle;\n",
       "    }\n",
       "\n",
       "    .dataframe tbody tr th {\n",
       "        vertical-align: top;\n",
       "    }\n",
       "\n",
       "    .dataframe thead th {\n",
       "        text-align: right;\n",
       "    }\n",
       "</style>\n",
       "<table border=\"1\" class=\"dataframe\">\n",
       "  <thead>\n",
       "    <tr style=\"text-align: right;\">\n",
       "      <th></th>\n",
       "      <th>classifier</th>\n",
       "      <th>technique</th>\n",
       "      <th>metrics</th>\n",
       "      <th>tit_txt_no_lemma</th>\n",
       "      <th>tit_txt_lemma</th>\n",
       "      <th>tit_txt_no_lemma_features</th>\n",
       "      <th>tit_txt_lemma_features</th>\n",
       "    </tr>\n",
       "  </thead>\n",
       "  <tbody>\n",
       "    <tr>\n",
       "      <th>2</th>\n",
       "      <td>SVC</td>\n",
       "      <td>word2vec</td>\n",
       "      <td>test_accuracy</td>\n",
       "      <td>0.539583</td>\n",
       "      <td>0.539103</td>\n",
       "      <td>0.539583</td>\n",
       "      <td>0.538975</td>\n",
       "    </tr>\n",
       "    <tr>\n",
       "      <th>9</th>\n",
       "      <td>randomforestclassifier</td>\n",
       "      <td>word2vec</td>\n",
       "      <td>test_accuracy</td>\n",
       "      <td>0.840391</td>\n",
       "      <td>0.882451</td>\n",
       "      <td>0.846112</td>\n",
       "      <td>0.886829</td>\n",
       "    </tr>\n",
       "  </tbody>\n",
       "</table>\n",
       "</div>"
      ],
      "text/plain": [
       "               classifier technique        metrics  tit_txt_no_lemma  \\\n",
       "2                     SVC  word2vec  test_accuracy          0.539583   \n",
       "9  randomforestclassifier  word2vec  test_accuracy          0.840391   \n",
       "\n",
       "   tit_txt_lemma  tit_txt_no_lemma_features  tit_txt_lemma_features  \n",
       "2       0.539103                   0.539583                0.538975  \n",
       "9       0.882451                   0.846112                0.886829  "
      ]
     },
     "metadata": {},
     "output_type": "display_data"
    },
    {
     "name": "stdout",
     "output_type": "stream",
     "text": [
      "\n",
      "\n",
      "\n",
      "THESE ARE THE RESULTS OF THE EXPERIMENT ON THE FULL TEXT\n",
      "\n"
     ]
    },
    {
     "data": {
      "text/html": [
       "<div>\n",
       "<style scoped>\n",
       "    .dataframe tbody tr th:only-of-type {\n",
       "        vertical-align: middle;\n",
       "    }\n",
       "\n",
       "    .dataframe tbody tr th {\n",
       "        vertical-align: top;\n",
       "    }\n",
       "\n",
       "    .dataframe thead th {\n",
       "        text-align: right;\n",
       "    }\n",
       "</style>\n",
       "<table border=\"1\" class=\"dataframe\">\n",
       "  <thead>\n",
       "    <tr style=\"text-align: right;\">\n",
       "      <th></th>\n",
       "      <th>classifier</th>\n",
       "      <th>technique</th>\n",
       "      <th>metrics</th>\n",
       "      <th>full_txt_lemma</th>\n",
       "      <th>full_txt_no_lemma</th>\n",
       "      <th>full_txt_no_lemma_features</th>\n",
       "      <th>full_txt_lemma_features</th>\n",
       "    </tr>\n",
       "  </thead>\n",
       "  <tbody>\n",
       "    <tr>\n",
       "      <th>2</th>\n",
       "      <td>SVC</td>\n",
       "      <td>word2vec</td>\n",
       "      <td>test_accuracy</td>\n",
       "      <td>0.543418</td>\n",
       "      <td>0.544632</td>\n",
       "      <td>0.541788</td>\n",
       "      <td>0.542044</td>\n",
       "    </tr>\n",
       "    <tr>\n",
       "      <th>9</th>\n",
       "      <td>randomforestclassifier</td>\n",
       "      <td>word2vec</td>\n",
       "      <td>test_accuracy</td>\n",
       "      <td>0.923136</td>\n",
       "      <td>0.921889</td>\n",
       "      <td>0.924318</td>\n",
       "      <td>0.922752</td>\n",
       "    </tr>\n",
       "  </tbody>\n",
       "</table>\n",
       "</div>"
      ],
      "text/plain": [
       "               classifier technique        metrics  full_txt_lemma  \\\n",
       "2                     SVC  word2vec  test_accuracy        0.543418   \n",
       "9  randomforestclassifier  word2vec  test_accuracy        0.923136   \n",
       "\n",
       "   full_txt_no_lemma  full_txt_no_lemma_features  full_txt_lemma_features  \n",
       "2           0.544632                    0.541788                 0.542044  \n",
       "9           0.921889                    0.924318                 0.922752  "
      ]
     },
     "metadata": {},
     "output_type": "display_data"
    }
   ],
   "source": [
    "\n",
    "# SHOW THE RESULTS OF THE BASELINE AND EXPERIMENT 1 AND 2\n",
    "print('SHOW THE RESULTS OF THE BASELINE AND EXPERIMENT 1 IN A DATAFRAME')\n",
    "# show the baseline scores and those of experiment 1\n",
    "display(pd.concat((base_and_exp1.loc[(base_and_exp1.metrics == 'test_accuracy')],exp1_features.loc[(exp1_features.metrics == 'test_accuracy')])))\n",
    "\n",
    "print('=================================================================\\n')\n",
    "print('SHOW THE RESULTS OF EXPERIMENT 2 IN A DATAFRAME\\n')\n",
    "\n",
    "print('THESE ARE THE RESULTS OF THE EXPERIMENT ON THE TITLE\\n')\n",
    "display(w2v_data[0].loc[(w2v_data[0].metrics == 'test_accuracy')])\n",
    "\n",
    "print('\\n\\n')\n",
    "print('THESE ARE THE RESULTS OF THE EXPERIMENT ON THE TITLE AND FIRST 200 WORDS OF THE ARTICLE\\n')\n",
    "display(w2v_data[1].loc[(w2v_data[1].metrics == 'test_accuracy')])\n",
    "\n",
    "\n",
    "\n",
    "print('\\n\\n')\n",
    "print('THESE ARE THE RESULTS OF THE EXPERIMENT ON THE FULL TEXT\\n')\n",
    "display(w2v_data[2].loc[(w2v_data[2].metrics == 'test_accuracy')])\n"
   ]
  },
  {
   "cell_type": "markdown",
   "metadata": {},
   "source": [
    "# Parameter Exploration\n",
    "\n",
    "Now that my first two experiments have been conducted, I want to conduct a gridsearch to find the best combination of parameters for the support vector machine classifier and the random forest. Once I am certain that I have found these, I can train and test a final time. In order to save time, I conduct the parameter exploration on the titles of the articles only.\n",
    "\n",
    "to reiterate:\n",
    "the best performing text representation technique was tf-idf\n",
    "no lemmatisation and no linguistic features with the support vector machine was the best performing algorithm\n",
    "the random forest also performed the best with no lemmatisation and no additional features.\n",
    "thus those will be selected when optimising the other values\n",
    "\n",
    "load the pre-processed data from intermediary.csv"
   ]
  },
  {
   "cell_type": "code",
   "execution_count": 2,
   "metadata": {},
   "outputs": [],
   "source": [
    "# method to conduct grid search and find the best parameters\n",
    "def exploreParameters(params: dict, model,x, y, refit: bool, n_features: int, cv=5) -> tuple:\n",
    "\n",
    "    clf = make_pipeline(TfidfVectorizer(max_features=n_features),\n",
    "                        #StandardScaler(with_mean=False),\n",
    "                        GridSearchCV(model(), param_grid=params,\n",
    "                                     cv=cv, n_jobs=-1, refit=refit,\n",
    "                                     verbose=2))\n",
    "    res = clf.fit(x, y)\n",
    "\n",
    "    # return the dictionary of cv results\n",
    "    return (res.steps[-1][1].cv_results_, res)\n"
   ]
  },
  {
   "cell_type": "code",
   "execution_count": 7,
   "metadata": {},
   "outputs": [],
   "source": [
    "# define the models with parameter settings\n",
    "#models = [SVC(kernel='rbf', C=1e3, gamma=1), RandomForestClassifier(n_estimators=500, max_features=50)]\n",
    "maxfeatures = 10000\n",
    "randomState = 4578\n",
    "\n",
    "# define the metrics\n",
    "metrics = ['accuracy', 'f1', 'recall', 'precision', 'roc_auc']"
   ]
  },
  {
   "cell_type": "code",
   "execution_count": 3,
   "metadata": {},
   "outputs": [],
   "source": [
    "data = pd.read_csv('intermediary.csv')\n",
    "\n",
    "# apply the same train test split as before. The train data will be split again in a training and validation set. The test set will \n",
    "# be used as a final evaluation.\n",
    "train_x, test_x, train_y, test_y = train_test_split(data['title_no_lemma'], data.target, test_size=0.3, random_state=randomState)\n"
   ]
  },
  {
   "cell_type": "code",
   "execution_count": 16,
   "metadata": {},
   "outputs": [],
   "source": [
    "# parameters for the support vector classifier\n",
    "svm_params = {\n",
    "    'kernel':['linear', 'rbf', 'sigmoid'],\n",
    "    'C': [0.01, 0.1, 1.0, 10],\n",
    "    'gamma': ['scale', 'auto', 0.001,0.01,],\n",
    "    'cache_size': [400],\n",
    "}\n",
    "\n",
    "# # kernel='rbf', C=1e3, gamma=1\n",
    "\n",
    "\n",
    "# Number of trees in random forest\n",
    "n_estimators = [int(x) for x in np.linspace(start = 200, stop = 2000, num = 10)]\n",
    "# Number of features to consider at every split\n",
    "max_features = [150, 'sqrt', 50,]\n",
    "# Maximum number of levels in tree\n",
    "max_depth = [int(x) for x in np.linspace(10, 110, num = 11)]\n",
    "max_depth.append(None)\n",
    "# Minimum number of samples required to split a node\n",
    "min_samples_split = [2, 5, 10]\n",
    "# Minimum number of samples required at each leaf node\n",
    "min_samples_leaf = [1, 2, 4]\n",
    "\n",
    "\n",
    "\n",
    "# Create the random grid\n",
    "rf_params = {'n_estimators': n_estimators,\n",
    "               'max_features': max_features,\n",
    "               'max_depth': max_depth,\n",
    "               'min_samples_split': min_samples_split,\n",
    "               'min_samples_leaf': min_samples_leaf,\n",
    "               }\n",
    "\n",
    "\n",
    "\n",
    "\n",
    "rf = RandomForestClassifier\n",
    "\n",
    "\n",
    "\n",
    "\n"
   ]
  },
  {
   "cell_type": "code",
   "execution_count": 19,
   "metadata": {},
   "outputs": [
    {
     "name": "stderr",
     "output_type": "stream",
     "text": [
      "c:\\Users\\jvand\\AppData\\Local\\Programs\\Python\\Python310\\lib\\site-packages\\sklearn\\model_selection\\_search.py:307: UserWarning: The total space of parameters 48 is smaller than n_iter=100. Running 48 iterations. For exhaustive searches, use GridSearchCV.\n",
      "  warnings.warn(\n"
     ]
    },
    {
     "name": "stdout",
     "output_type": "stream",
     "text": [
      "Fitting 3 folds for each of 48 candidates, totalling 144 fits\n"
     ]
    },
    {
     "data": {
      "text/html": [
       "<style>#sk-container-id-1 {color: black;}#sk-container-id-1 pre{padding: 0;}#sk-container-id-1 div.sk-toggleable {background-color: white;}#sk-container-id-1 label.sk-toggleable__label {cursor: pointer;display: block;width: 100%;margin-bottom: 0;padding: 0.3em;box-sizing: border-box;text-align: center;}#sk-container-id-1 label.sk-toggleable__label-arrow:before {content: \"▸\";float: left;margin-right: 0.25em;color: #696969;}#sk-container-id-1 label.sk-toggleable__label-arrow:hover:before {color: black;}#sk-container-id-1 div.sk-estimator:hover label.sk-toggleable__label-arrow:before {color: black;}#sk-container-id-1 div.sk-toggleable__content {max-height: 0;max-width: 0;overflow: hidden;text-align: left;background-color: #f0f8ff;}#sk-container-id-1 div.sk-toggleable__content pre {margin: 0.2em;color: black;border-radius: 0.25em;background-color: #f0f8ff;}#sk-container-id-1 input.sk-toggleable__control:checked~div.sk-toggleable__content {max-height: 200px;max-width: 100%;overflow: auto;}#sk-container-id-1 input.sk-toggleable__control:checked~label.sk-toggleable__label-arrow:before {content: \"▾\";}#sk-container-id-1 div.sk-estimator input.sk-toggleable__control:checked~label.sk-toggleable__label {background-color: #d4ebff;}#sk-container-id-1 div.sk-label input.sk-toggleable__control:checked~label.sk-toggleable__label {background-color: #d4ebff;}#sk-container-id-1 input.sk-hidden--visually {border: 0;clip: rect(1px 1px 1px 1px);clip: rect(1px, 1px, 1px, 1px);height: 1px;margin: -1px;overflow: hidden;padding: 0;position: absolute;width: 1px;}#sk-container-id-1 div.sk-estimator {font-family: monospace;background-color: #f0f8ff;border: 1px dotted black;border-radius: 0.25em;box-sizing: border-box;margin-bottom: 0.5em;}#sk-container-id-1 div.sk-estimator:hover {background-color: #d4ebff;}#sk-container-id-1 div.sk-parallel-item::after {content: \"\";width: 100%;border-bottom: 1px solid gray;flex-grow: 1;}#sk-container-id-1 div.sk-label:hover label.sk-toggleable__label {background-color: #d4ebff;}#sk-container-id-1 div.sk-serial::before {content: \"\";position: absolute;border-left: 1px solid gray;box-sizing: border-box;top: 0;bottom: 0;left: 50%;z-index: 0;}#sk-container-id-1 div.sk-serial {display: flex;flex-direction: column;align-items: center;background-color: white;padding-right: 0.2em;padding-left: 0.2em;position: relative;}#sk-container-id-1 div.sk-item {position: relative;z-index: 1;}#sk-container-id-1 div.sk-parallel {display: flex;align-items: stretch;justify-content: center;background-color: white;position: relative;}#sk-container-id-1 div.sk-item::before, #sk-container-id-1 div.sk-parallel-item::before {content: \"\";position: absolute;border-left: 1px solid gray;box-sizing: border-box;top: 0;bottom: 0;left: 50%;z-index: -1;}#sk-container-id-1 div.sk-parallel-item {display: flex;flex-direction: column;z-index: 1;position: relative;background-color: white;}#sk-container-id-1 div.sk-parallel-item:first-child::after {align-self: flex-end;width: 50%;}#sk-container-id-1 div.sk-parallel-item:last-child::after {align-self: flex-start;width: 50%;}#sk-container-id-1 div.sk-parallel-item:only-child::after {width: 0;}#sk-container-id-1 div.sk-dashed-wrapped {border: 1px dashed gray;margin: 0 0.4em 0.5em 0.4em;box-sizing: border-box;padding-bottom: 0.4em;background-color: white;}#sk-container-id-1 div.sk-label label {font-family: monospace;font-weight: bold;display: inline-block;line-height: 1.2em;}#sk-container-id-1 div.sk-label-container {text-align: center;}#sk-container-id-1 div.sk-container {/* jupyter's `normalize.less` sets `[hidden] { display: none; }` but bootstrap.min.css set `[hidden] { display: none !important; }` so we also need the `!important` here to be able to override the default hidden behavior on the sphinx rendered scikit-learn.org. See: https://github.com/scikit-learn/scikit-learn/issues/21755 */display: inline-block !important;position: relative;}#sk-container-id-1 div.sk-text-repr-fallback {display: none;}</style><div id=\"sk-container-id-1\" class=\"sk-top-container\"><div class=\"sk-text-repr-fallback\"><pre>Pipeline(steps=[(&#x27;tfidfvectorizer&#x27;, TfidfVectorizer(max_features=10000)),\n",
       "                (&#x27;randomizedsearchcv&#x27;,\n",
       "                 RandomizedSearchCV(cv=3, estimator=SVC(), n_iter=100,\n",
       "                                    n_jobs=-1,\n",
       "                                    param_distributions={&#x27;C&#x27;: [0.01, 0.1, 1.0,\n",
       "                                                               10],\n",
       "                                                         &#x27;cache_size&#x27;: [400],\n",
       "                                                         &#x27;gamma&#x27;: [&#x27;scale&#x27;,\n",
       "                                                                   &#x27;auto&#x27;,\n",
       "                                                                   0.001,\n",
       "                                                                   0.01],\n",
       "                                                         &#x27;kernel&#x27;: [&#x27;linear&#x27;,\n",
       "                                                                    &#x27;rbf&#x27;,\n",
       "                                                                    &#x27;sigmoid&#x27;]},\n",
       "                                    verbose=2))])</pre><b>In a Jupyter environment, please rerun this cell to show the HTML representation or trust the notebook. <br />On GitHub, the HTML representation is unable to render, please try loading this page with nbviewer.org.</b></div><div class=\"sk-container\" hidden><div class=\"sk-item sk-dashed-wrapped\"><div class=\"sk-label-container\"><div class=\"sk-label sk-toggleable\"><input class=\"sk-toggleable__control sk-hidden--visually\" id=\"sk-estimator-id-1\" type=\"checkbox\" ><label for=\"sk-estimator-id-1\" class=\"sk-toggleable__label sk-toggleable__label-arrow\">Pipeline</label><div class=\"sk-toggleable__content\"><pre>Pipeline(steps=[(&#x27;tfidfvectorizer&#x27;, TfidfVectorizer(max_features=10000)),\n",
       "                (&#x27;randomizedsearchcv&#x27;,\n",
       "                 RandomizedSearchCV(cv=3, estimator=SVC(), n_iter=100,\n",
       "                                    n_jobs=-1,\n",
       "                                    param_distributions={&#x27;C&#x27;: [0.01, 0.1, 1.0,\n",
       "                                                               10],\n",
       "                                                         &#x27;cache_size&#x27;: [400],\n",
       "                                                         &#x27;gamma&#x27;: [&#x27;scale&#x27;,\n",
       "                                                                   &#x27;auto&#x27;,\n",
       "                                                                   0.001,\n",
       "                                                                   0.01],\n",
       "                                                         &#x27;kernel&#x27;: [&#x27;linear&#x27;,\n",
       "                                                                    &#x27;rbf&#x27;,\n",
       "                                                                    &#x27;sigmoid&#x27;]},\n",
       "                                    verbose=2))])</pre></div></div></div><div class=\"sk-serial\"><div class=\"sk-item\"><div class=\"sk-estimator sk-toggleable\"><input class=\"sk-toggleable__control sk-hidden--visually\" id=\"sk-estimator-id-2\" type=\"checkbox\" ><label for=\"sk-estimator-id-2\" class=\"sk-toggleable__label sk-toggleable__label-arrow\">TfidfVectorizer</label><div class=\"sk-toggleable__content\"><pre>TfidfVectorizer(max_features=10000)</pre></div></div></div><div class=\"sk-item sk-dashed-wrapped\"><div class=\"sk-label-container\"><div class=\"sk-label sk-toggleable\"><input class=\"sk-toggleable__control sk-hidden--visually\" id=\"sk-estimator-id-3\" type=\"checkbox\" ><label for=\"sk-estimator-id-3\" class=\"sk-toggleable__label sk-toggleable__label-arrow\">randomizedsearchcv: RandomizedSearchCV</label><div class=\"sk-toggleable__content\"><pre>RandomizedSearchCV(cv=3, estimator=SVC(), n_iter=100, n_jobs=-1,\n",
       "                   param_distributions={&#x27;C&#x27;: [0.01, 0.1, 1.0, 10],\n",
       "                                        &#x27;cache_size&#x27;: [400],\n",
       "                                        &#x27;gamma&#x27;: [&#x27;scale&#x27;, &#x27;auto&#x27;, 0.001, 0.01],\n",
       "                                        &#x27;kernel&#x27;: [&#x27;linear&#x27;, &#x27;rbf&#x27;, &#x27;sigmoid&#x27;]},\n",
       "                   verbose=2)</pre></div></div></div><div class=\"sk-parallel\"><div class=\"sk-parallel-item\"><div class=\"sk-item\"><div class=\"sk-label-container\"><div class=\"sk-label sk-toggleable\"><input class=\"sk-toggleable__control sk-hidden--visually\" id=\"sk-estimator-id-4\" type=\"checkbox\" ><label for=\"sk-estimator-id-4\" class=\"sk-toggleable__label sk-toggleable__label-arrow\">estimator: SVC</label><div class=\"sk-toggleable__content\"><pre>SVC()</pre></div></div></div><div class=\"sk-serial\"><div class=\"sk-item\"><div class=\"sk-estimator sk-toggleable\"><input class=\"sk-toggleable__control sk-hidden--visually\" id=\"sk-estimator-id-5\" type=\"checkbox\" ><label for=\"sk-estimator-id-5\" class=\"sk-toggleable__label sk-toggleable__label-arrow\">SVC</label><div class=\"sk-toggleable__content\"><pre>SVC()</pre></div></div></div></div></div></div></div></div></div></div></div></div>"
      ],
      "text/plain": [
       "Pipeline(steps=[('tfidfvectorizer', TfidfVectorizer(max_features=10000)),\n",
       "                ('randomizedsearchcv',\n",
       "                 RandomizedSearchCV(cv=3, estimator=SVC(), n_iter=100,\n",
       "                                    n_jobs=-1,\n",
       "                                    param_distributions={'C': [0.01, 0.1, 1.0,\n",
       "                                                               10],\n",
       "                                                         'cache_size': [400],\n",
       "                                                         'gamma': ['scale',\n",
       "                                                                   'auto',\n",
       "                                                                   0.001,\n",
       "                                                                   0.01],\n",
       "                                                         'kernel': ['linear',\n",
       "                                                                    'rbf',\n",
       "                                                                    'sigmoid']},\n",
       "                                    verbose=2))])"
      ]
     },
     "execution_count": 19,
     "metadata": {},
     "output_type": "execute_result"
    }
   ],
   "source": [
    "\n",
    "# perform a randomised search with the support vector machine to explore a wide variety of parameters. Afterwards narrow it down\n",
    "\n",
    "svm_randomised_search = make_pipeline(TfidfVectorizer(max_features=maxfeatures),\n",
    "                                      RandomizedSearchCV(estimator=SVC(), param_distributions=svm_params, n_iter=100, cv=3, verbose=2, n_jobs=-1))\n",
    "\n",
    "svm_randomised_search.fit(train_x, train_y)\n"
   ]
  },
  {
   "cell_type": "code",
   "execution_count": 22,
   "metadata": {},
   "outputs": [
    {
     "name": "stdout",
     "output_type": "stream",
     "text": [
      "The result of the randomized search for the support vector machine is and improvement of: \n",
      "-0.770010498871363 %\n"
     ]
    }
   ],
   "source": [
    "# Show the difference between the best score so far and the score of the best randomised search\n",
    "baseline_svm_score = 0.910767\n",
    "svm_res = pd.DataFrame(svm_randomised_search.named_steps['randomizedsearchcv'].cv_results_)\n",
    "random_svm_score = svm_res.loc[(svm_res['rank_test_score'] == 1)]['mean_test_score'].values[0]\n",
    "\n",
    "print('The result of the randomized search for the support vector machine is and improvement of: ')\n",
    "\n",
    "print((random_svm_score - baseline_svm_score) / baseline_svm_score * 100,'%')"
   ]
  },
  {
   "cell_type": "code",
   "execution_count": 23,
   "metadata": {},
   "outputs": [
    {
     "data": {
      "text/plain": [
       "{'kernel': 'rbf', 'gamma': 'scale', 'cache_size': 400, 'C': 10}"
      ]
     },
     "execution_count": 23,
     "metadata": {},
     "output_type": "execute_result"
    }
   ],
   "source": [
    "# show the best parameters of the randomised search support vector machine\n",
    "svm_randomised_search.named_steps['randomizedsearchcv'].best_params_"
   ]
  },
  {
   "cell_type": "code",
   "execution_count": 24,
   "metadata": {},
   "outputs": [
    {
     "name": "stdout",
     "output_type": "stream",
     "text": [
      "Fitting 3 folds for each of 6 candidates, totalling 18 fits\n"
     ]
    }
   ],
   "source": [
    "# After the random search, now conduct a more focused grid search\n",
    "# using these parameters\n",
    "svm_best_params = {\n",
    "    'kernel': ['rbf'],\n",
    "    'gamma': ['scale',1],\n",
    "    'C': [1e3, 10, 1e4],\n",
    "    'cache_size': [400]\n",
    "}\n",
    "\n",
    "svm_output_param_search = exploreParameters(params=svm_best_params, model=SVC, x=train_x, y=train_y, refit=True, n_features=maxfeatures, cv=3)"
   ]
  },
  {
   "cell_type": "code",
   "execution_count": 25,
   "metadata": {},
   "outputs": [
    {
     "name": "stdout",
     "output_type": "stream",
     "text": [
      "The score of the best performing parameters from the grid search is: 0.9037987472155925\n",
      "This is an improvement in of -0.7650971965834831 %\n"
     ]
    }
   ],
   "source": [
    "svm_gridsearch_df = pd.DataFrame(svm_output_param_search[0])\n",
    "\n",
    "# get the score of the best performing parameter combination\n",
    "score = svm_gridsearch_df.loc[(svm_gridsearch_df['rank_test_score'] == 1)]['mean_test_score'].values[0]\n",
    "\n",
    "# print the output and compare it to the baseline\n",
    "print('The score of the best performing parameters from the grid search is:', score)\n",
    "print('This is an improvement in of',(score-baseline_svm_score)/baseline_svm_score * 100,'%')"
   ]
  },
  {
   "cell_type": "code",
   "execution_count": 15,
   "metadata": {},
   "outputs": [
    {
     "name": "stdout",
     "output_type": "stream",
     "text": [
      "Fitting 3 folds for each of 100 candidates, totalling 300 fits\n"
     ]
    },
    {
     "data": {
      "text/html": [
       "<style>#sk-container-id-1 {color: black;}#sk-container-id-1 pre{padding: 0;}#sk-container-id-1 div.sk-toggleable {background-color: white;}#sk-container-id-1 label.sk-toggleable__label {cursor: pointer;display: block;width: 100%;margin-bottom: 0;padding: 0.3em;box-sizing: border-box;text-align: center;}#sk-container-id-1 label.sk-toggleable__label-arrow:before {content: \"▸\";float: left;margin-right: 0.25em;color: #696969;}#sk-container-id-1 label.sk-toggleable__label-arrow:hover:before {color: black;}#sk-container-id-1 div.sk-estimator:hover label.sk-toggleable__label-arrow:before {color: black;}#sk-container-id-1 div.sk-toggleable__content {max-height: 0;max-width: 0;overflow: hidden;text-align: left;background-color: #f0f8ff;}#sk-container-id-1 div.sk-toggleable__content pre {margin: 0.2em;color: black;border-radius: 0.25em;background-color: #f0f8ff;}#sk-container-id-1 input.sk-toggleable__control:checked~div.sk-toggleable__content {max-height: 200px;max-width: 100%;overflow: auto;}#sk-container-id-1 input.sk-toggleable__control:checked~label.sk-toggleable__label-arrow:before {content: \"▾\";}#sk-container-id-1 div.sk-estimator input.sk-toggleable__control:checked~label.sk-toggleable__label {background-color: #d4ebff;}#sk-container-id-1 div.sk-label input.sk-toggleable__control:checked~label.sk-toggleable__label {background-color: #d4ebff;}#sk-container-id-1 input.sk-hidden--visually {border: 0;clip: rect(1px 1px 1px 1px);clip: rect(1px, 1px, 1px, 1px);height: 1px;margin: -1px;overflow: hidden;padding: 0;position: absolute;width: 1px;}#sk-container-id-1 div.sk-estimator {font-family: monospace;background-color: #f0f8ff;border: 1px dotted black;border-radius: 0.25em;box-sizing: border-box;margin-bottom: 0.5em;}#sk-container-id-1 div.sk-estimator:hover {background-color: #d4ebff;}#sk-container-id-1 div.sk-parallel-item::after {content: \"\";width: 100%;border-bottom: 1px solid gray;flex-grow: 1;}#sk-container-id-1 div.sk-label:hover label.sk-toggleable__label {background-color: #d4ebff;}#sk-container-id-1 div.sk-serial::before {content: \"\";position: absolute;border-left: 1px solid gray;box-sizing: border-box;top: 0;bottom: 0;left: 50%;z-index: 0;}#sk-container-id-1 div.sk-serial {display: flex;flex-direction: column;align-items: center;background-color: white;padding-right: 0.2em;padding-left: 0.2em;position: relative;}#sk-container-id-1 div.sk-item {position: relative;z-index: 1;}#sk-container-id-1 div.sk-parallel {display: flex;align-items: stretch;justify-content: center;background-color: white;position: relative;}#sk-container-id-1 div.sk-item::before, #sk-container-id-1 div.sk-parallel-item::before {content: \"\";position: absolute;border-left: 1px solid gray;box-sizing: border-box;top: 0;bottom: 0;left: 50%;z-index: -1;}#sk-container-id-1 div.sk-parallel-item {display: flex;flex-direction: column;z-index: 1;position: relative;background-color: white;}#sk-container-id-1 div.sk-parallel-item:first-child::after {align-self: flex-end;width: 50%;}#sk-container-id-1 div.sk-parallel-item:last-child::after {align-self: flex-start;width: 50%;}#sk-container-id-1 div.sk-parallel-item:only-child::after {width: 0;}#sk-container-id-1 div.sk-dashed-wrapped {border: 1px dashed gray;margin: 0 0.4em 0.5em 0.4em;box-sizing: border-box;padding-bottom: 0.4em;background-color: white;}#sk-container-id-1 div.sk-label label {font-family: monospace;font-weight: bold;display: inline-block;line-height: 1.2em;}#sk-container-id-1 div.sk-label-container {text-align: center;}#sk-container-id-1 div.sk-container {/* jupyter's `normalize.less` sets `[hidden] { display: none; }` but bootstrap.min.css set `[hidden] { display: none !important; }` so we also need the `!important` here to be able to override the default hidden behavior on the sphinx rendered scikit-learn.org. See: https://github.com/scikit-learn/scikit-learn/issues/21755 */display: inline-block !important;position: relative;}#sk-container-id-1 div.sk-text-repr-fallback {display: none;}</style><div id=\"sk-container-id-1\" class=\"sk-top-container\"><div class=\"sk-text-repr-fallback\"><pre>Pipeline(steps=[(&#x27;tfidfvectorizer&#x27;, TfidfVectorizer(max_features=10000)),\n",
       "                (&#x27;randomizedsearchcv&#x27;,\n",
       "                 RandomizedSearchCV(cv=3, estimator=RandomForestClassifier(),\n",
       "                                    n_iter=100, n_jobs=-1,\n",
       "                                    param_distributions={&#x27;max_depth&#x27;: [10, 20,\n",
       "                                                                       30, 40,\n",
       "                                                                       50, 60,\n",
       "                                                                       70, 80,\n",
       "                                                                       90, 100,\n",
       "                                                                       110,\n",
       "                                                                       None],\n",
       "                                                         &#x27;max_features&#x27;: [150,\n",
       "                                                                          &#x27;sqrt&#x27;,\n",
       "                                                                          50],\n",
       "                                                         &#x27;min_samples_leaf&#x27;: [1,\n",
       "                                                                              2,\n",
       "                                                                              4],\n",
       "                                                         &#x27;min_samples_split&#x27;: [2,\n",
       "                                                                               5,\n",
       "                                                                               10],\n",
       "                                                         &#x27;n_estimators&#x27;: [200,\n",
       "                                                                          400,\n",
       "                                                                          600,\n",
       "                                                                          800,\n",
       "                                                                          1000,\n",
       "                                                                          1200,\n",
       "                                                                          1400,\n",
       "                                                                          1600,\n",
       "                                                                          1800,\n",
       "                                                                          2000]},\n",
       "                                    verbose=2))])</pre><b>In a Jupyter environment, please rerun this cell to show the HTML representation or trust the notebook. <br />On GitHub, the HTML representation is unable to render, please try loading this page with nbviewer.org.</b></div><div class=\"sk-container\" hidden><div class=\"sk-item sk-dashed-wrapped\"><div class=\"sk-label-container\"><div class=\"sk-label sk-toggleable\"><input class=\"sk-toggleable__control sk-hidden--visually\" id=\"sk-estimator-id-1\" type=\"checkbox\" ><label for=\"sk-estimator-id-1\" class=\"sk-toggleable__label sk-toggleable__label-arrow\">Pipeline</label><div class=\"sk-toggleable__content\"><pre>Pipeline(steps=[(&#x27;tfidfvectorizer&#x27;, TfidfVectorizer(max_features=10000)),\n",
       "                (&#x27;randomizedsearchcv&#x27;,\n",
       "                 RandomizedSearchCV(cv=3, estimator=RandomForestClassifier(),\n",
       "                                    n_iter=100, n_jobs=-1,\n",
       "                                    param_distributions={&#x27;max_depth&#x27;: [10, 20,\n",
       "                                                                       30, 40,\n",
       "                                                                       50, 60,\n",
       "                                                                       70, 80,\n",
       "                                                                       90, 100,\n",
       "                                                                       110,\n",
       "                                                                       None],\n",
       "                                                         &#x27;max_features&#x27;: [150,\n",
       "                                                                          &#x27;sqrt&#x27;,\n",
       "                                                                          50],\n",
       "                                                         &#x27;min_samples_leaf&#x27;: [1,\n",
       "                                                                              2,\n",
       "                                                                              4],\n",
       "                                                         &#x27;min_samples_split&#x27;: [2,\n",
       "                                                                               5,\n",
       "                                                                               10],\n",
       "                                                         &#x27;n_estimators&#x27;: [200,\n",
       "                                                                          400,\n",
       "                                                                          600,\n",
       "                                                                          800,\n",
       "                                                                          1000,\n",
       "                                                                          1200,\n",
       "                                                                          1400,\n",
       "                                                                          1600,\n",
       "                                                                          1800,\n",
       "                                                                          2000]},\n",
       "                                    verbose=2))])</pre></div></div></div><div class=\"sk-serial\"><div class=\"sk-item\"><div class=\"sk-estimator sk-toggleable\"><input class=\"sk-toggleable__control sk-hidden--visually\" id=\"sk-estimator-id-2\" type=\"checkbox\" ><label for=\"sk-estimator-id-2\" class=\"sk-toggleable__label sk-toggleable__label-arrow\">TfidfVectorizer</label><div class=\"sk-toggleable__content\"><pre>TfidfVectorizer(max_features=10000)</pre></div></div></div><div class=\"sk-item sk-dashed-wrapped\"><div class=\"sk-label-container\"><div class=\"sk-label sk-toggleable\"><input class=\"sk-toggleable__control sk-hidden--visually\" id=\"sk-estimator-id-3\" type=\"checkbox\" ><label for=\"sk-estimator-id-3\" class=\"sk-toggleable__label sk-toggleable__label-arrow\">randomizedsearchcv: RandomizedSearchCV</label><div class=\"sk-toggleable__content\"><pre>RandomizedSearchCV(cv=3, estimator=RandomForestClassifier(), n_iter=100,\n",
       "                   n_jobs=-1,\n",
       "                   param_distributions={&#x27;max_depth&#x27;: [10, 20, 30, 40, 50, 60,\n",
       "                                                      70, 80, 90, 100, 110,\n",
       "                                                      None],\n",
       "                                        &#x27;max_features&#x27;: [150, &#x27;sqrt&#x27;, 50],\n",
       "                                        &#x27;min_samples_leaf&#x27;: [1, 2, 4],\n",
       "                                        &#x27;min_samples_split&#x27;: [2, 5, 10],\n",
       "                                        &#x27;n_estimators&#x27;: [200, 400, 600, 800,\n",
       "                                                         1000, 1200, 1400, 1600,\n",
       "                                                         1800, 2000]},\n",
       "                   verbose=2)</pre></div></div></div><div class=\"sk-parallel\"><div class=\"sk-parallel-item\"><div class=\"sk-item\"><div class=\"sk-label-container\"><div class=\"sk-label sk-toggleable\"><input class=\"sk-toggleable__control sk-hidden--visually\" id=\"sk-estimator-id-4\" type=\"checkbox\" ><label for=\"sk-estimator-id-4\" class=\"sk-toggleable__label sk-toggleable__label-arrow\">estimator: RandomForestClassifier</label><div class=\"sk-toggleable__content\"><pre>RandomForestClassifier()</pre></div></div></div><div class=\"sk-serial\"><div class=\"sk-item\"><div class=\"sk-estimator sk-toggleable\"><input class=\"sk-toggleable__control sk-hidden--visually\" id=\"sk-estimator-id-5\" type=\"checkbox\" ><label for=\"sk-estimator-id-5\" class=\"sk-toggleable__label sk-toggleable__label-arrow\">RandomForestClassifier</label><div class=\"sk-toggleable__content\"><pre>RandomForestClassifier()</pre></div></div></div></div></div></div></div></div></div></div></div></div>"
      ],
      "text/plain": [
       "Pipeline(steps=[('tfidfvectorizer', TfidfVectorizer(max_features=10000)),\n",
       "                ('randomizedsearchcv',\n",
       "                 RandomizedSearchCV(cv=3, estimator=RandomForestClassifier(),\n",
       "                                    n_iter=100, n_jobs=-1,\n",
       "                                    param_distributions={'max_depth': [10, 20,\n",
       "                                                                       30, 40,\n",
       "                                                                       50, 60,\n",
       "                                                                       70, 80,\n",
       "                                                                       90, 100,\n",
       "                                                                       110,\n",
       "                                                                       None],\n",
       "                                                         'max_features': [150,\n",
       "                                                                          'sqrt',\n",
       "                                                                          50],\n",
       "                                                         'min_samples_leaf': [1,\n",
       "                                                                              2,\n",
       "                                                                              4],\n",
       "                                                         'min_samples_split': [2,\n",
       "                                                                               5,\n",
       "                                                                               10],\n",
       "                                                         'n_estimators': [200,\n",
       "                                                                          400,\n",
       "                                                                          600,\n",
       "                                                                          800,\n",
       "                                                                          1000,\n",
       "                                                                          1200,\n",
       "                                                                          1400,\n",
       "                                                                          1600,\n",
       "                                                                          1800,\n",
       "                                                                          2000]},\n",
       "                                    verbose=2))])"
      ]
     },
     "execution_count": 15,
     "metadata": {},
     "output_type": "execute_result"
    }
   ],
   "source": [
    "# random forest\n",
    "# begin with a randomised search to quickly explore a wide variety of parameters. Afterwards I will narrow it down\n",
    "\n",
    "rf_random_search = make_pipeline(TfidfVectorizer(max_features=maxfeatures),\n",
    "                        \n",
    "                        RandomizedSearchCV(estimator=rf(), param_distributions=rf_params, n_iter=100, cv=3, verbose=2, n_jobs=-1))\n",
    "\n",
    "rf_random_search.fit(train_x, train_y)\n"
   ]
  },
  {
   "cell_type": "code",
   "execution_count": 39,
   "metadata": {},
   "outputs": [
    {
     "name": "stdout",
     "output_type": "stream",
     "text": [
      "The result of the randomized search for the random forest is and improvement of: \n",
      "-0.14275232759604756 %\n"
     ]
    }
   ],
   "source": [
    "baseline_rf_score = 0.896801\n",
    "rf_res = pd.DataFrame(rf_random_search.named_steps['randomizedsearchcv'].cv_results_)\n",
    "random_rf_score = rf_res.loc[(rf_res['rank_test_score'] == 1)]['mean_test_score'].values[0]\n",
    "\n",
    "print('The result of the randomized search for the random forest is and improvement of: ')\n",
    "\n",
    "print((random_rf_score - baseline_rf_score) / baseline_rf_score * 100,'%')\n"
   ]
  },
  {
   "cell_type": "code",
   "execution_count": 41,
   "metadata": {},
   "outputs": [
    {
     "data": {
      "text/plain": [
       "{'n_estimators': 1600,\n",
       " 'min_samples_split': 10,\n",
       " 'min_samples_leaf': 1,\n",
       " 'max_features': 50,\n",
       " 'max_depth': None}"
      ]
     },
     "execution_count": 41,
     "metadata": {},
     "output_type": "execute_result"
    }
   ],
   "source": [
    "# Show the best parameters\n",
    "rf_random_search.named_steps['randomizedsearchcv'].best_params_"
   ]
  },
  {
   "cell_type": "code",
   "execution_count": 7,
   "metadata": {},
   "outputs": [
    {
     "name": "stdout",
     "output_type": "stream",
     "text": [
      "Fitting 2 folds for each of 12 candidates, totalling 24 fits\n"
     ]
    }
   ],
   "source": [
    "# The next step is to select the best parameters and try and tweak these a little bit\n",
    "rf_best_params = {\n",
    "    'n_estimators': [1400, 1600, 1800],\n",
    "    'min_samples_split': [10, 12],\n",
    "    'min_samples_leaf': [1,2],\n",
    "    'max_features': [50],\n",
    "    'max_depth': [None]\n",
    "}\n",
    "\n",
    "rf_output_param_search = exploreParameters(params=rf_best_params, model=rf, \n",
    "                                           x=train_x, y=train_y, refit=True, n_features=maxfeatures, cv=2)\n"
   ]
  },
  {
   "cell_type": "code",
   "execution_count": 15,
   "metadata": {},
   "outputs": [
    {
     "name": "stdout",
     "output_type": "stream",
     "text": [
      "The score of the best performing parameters from the grid search is: 0.8926124764704257\n",
      "This is an improvement in of -0.46705161229461356 %\n"
     ]
    }
   ],
   "source": [
    "# Store the results of the gridsearch in a dataframe\n",
    "rf_gridsearch_df = pd.DataFrame(rf_output_param_search[0])\n",
    "\n",
    "# get the score of the best performing parameter combination\n",
    "score = rf_gridsearch_df.loc[(rf_gridsearch_df['rank_test_score'] == 1)]['mean_test_score'].values[0]\n",
    "\n",
    "# print the output and compare it to the baseline\n",
    "print('The score of the best performing parameters from the grid search is:', score)\n",
    "print('This is an improvement in of',(score-baseline_rf_score)/baseline_rf_score * 100,'%')\n"
   ]
  },
  {
   "cell_type": "markdown",
   "metadata": {},
   "source": [
    "## outcome of the grid search \n",
    "\n",
    "Trying to find better parameters for the support vector machine and random forest classifiers did not work. The baseline models do have the best combination of parameter settings\n",
    "in this case. This is not completely unsurprising as these settings were taken from the literature review. The authors of the paper stated that they had conducted a gridsearch and that these were the settings they settled on as the best performing.\n",
    "\n",
    "\n",
    "# Final evaluation on the test data\n",
    "Given that the baseline model works best, I will continue with these settings. A svm and random forest will be trained using the baseline settingson the full training set. They will then be evaluated on the test set to judge their final performance. This will be done twice: once with tf-idf and once with word2vec. No lemmatisation and no additional linguistic features will be used as these did not prove helpful in increasing the accuracy score. The full scala of metrics will be reported on."
   ]
  },
  {
   "cell_type": "code",
   "execution_count": 4,
   "metadata": {},
   "outputs": [],
   "source": [
    "data = pd.read_csv('intermediary.csv')\n",
    "\n",
    "\n",
    "# apply the same train test split as before. The train data will be split again in a training and validation set. The test set will \n",
    "# be used as a final evaluation.\n",
    "train_x, test_x, train_y, test_y = train_test_split(data, data.target, test_size=0.3, random_state=randomState)"
   ]
  },
  {
   "cell_type": "code",
   "execution_count": 2,
   "metadata": {},
   "outputs": [],
   "source": [
    "models = [SVC(kernel='rbf', C=1e3, cache_size=400, gamma=1, probability=False), RandomForestClassifier(n_estimators=500, max_features=50)]\n",
    "\n",
    "\n",
    "def finalTest(train_x, train_y, test_x) -> dict:\n",
    "\n",
    "    res = {}\n",
    "    clfs = []\n",
    "\n",
    "    for model in models:\n",
    "\n",
    "        # create a pipeline of a tfidfvectorizer and the number of features with the model\n",
    "        clf = make_pipeline(TfidfVectorizer(max_features=maxfeatures), model)\n",
    "    \n",
    "        # fit the classifier\n",
    "        clf.fit(train_x, train_y)\n",
    "        clfs.append(clf)\n",
    "\n",
    "        #store the name of the classifier\n",
    "        name = clf.steps[1][0]\n",
    "        \n",
    "        res[name] = []\n",
    "\n",
    "\n",
    "    \n",
    "        # get predictions and store the result\n",
    "        #  to the results dictionary accessible by the name of the classifier\n",
    "        res[name].append(clf.predict(test_x))\n",
    "        if name == 'svc':\n",
    "            res[name].append(clf.decision_function(test_x))\n",
    "        elif name == 'randomforestclassifier':\n",
    "            res[name].append(clf.predict_proba(test_x))\n",
    "        else:\n",
    "            print('could not identify', name)\n",
    "    \n",
    "    clfs.append(res)\n",
    "\n",
    "    return clfs"
   ]
  },
  {
   "cell_type": "code",
   "execution_count": 35,
   "metadata": {},
   "outputs": [],
   "source": [
    "# calculate the title results, returns the model and the predictions\n",
    "title_test = finalTest(train_x=train_x.title_no_lemma, train_y=train_y, test_x=test_x.title_no_lemma)\n",
    "\n",
    "# calculate the title and text results, returns the model and the predictions\n",
    "title_txt_test = finalTest(train_x=train_x.title_text_no_lemma, train_y=train_y, test_x=test_x.title_text_no_lemma)\n",
    "\n",
    "# calculate the text results, returns the model and the predictions\n",
    "text_test = finalTest(train_x=train_x.text_no_lemma, train_y=train_y, test_x=test_x.text_no_lemma)\n",
    "\n",
    "\n",
    "# store the results to json files for later\n",
    "pd.DataFrame(title_test[2]).to_json('title_test.json')\n",
    "pd.DataFrame(title_txt_test[2]).to_json('title_txt_test.json')\n",
    "pd.DataFrame(text_test[2]).to_json('text_test.json')\n",
    "\n"
   ]
  },
  {
   "cell_type": "code",
   "execution_count": 6,
   "metadata": {},
   "outputs": [],
   "source": [
    "\n",
    "title_test = finalTest(train_x=train_x.title_no_lemma, train_y=train_y, test_x=test_x.title_no_lemma)"
   ]
  },
  {
   "cell_type": "code",
   "execution_count": 23,
   "metadata": {},
   "outputs": [
    {
     "data": {
      "text/plain": [
       "0.912"
      ]
     },
     "execution_count": 23,
     "metadata": {},
     "output_type": "execute_result"
    }
   ],
   "source": [
    "\n",
    "# run and example accuracy score on the test data\n",
    "# SUPPORT VECTOR MACHINE\n",
    "\n",
    "accuracy_score(test_y[:1000], title_test[0].predict(test_x.title_no_lemma[:1000]))"
   ]
  },
  {
   "cell_type": "code",
   "execution_count": 24,
   "metadata": {},
   "outputs": [
    {
     "data": {
      "text/plain": [
       "0.91"
      ]
     },
     "execution_count": 24,
     "metadata": {},
     "output_type": "execute_result"
    }
   ],
   "source": [
    "# run and example accuracy score on the test data\n",
    "# RANDOM FOREST CLASSIFIER\n",
    "accuracy_score(test_y[:1000], title_test[1].predict(test_x.title_no_lemma[:1000]))"
   ]
  },
  {
   "cell_type": "markdown",
   "metadata": {},
   "source": [
    "# show results"
   ]
  },
  {
   "cell_type": "code",
   "execution_count": 2,
   "metadata": {},
   "outputs": [],
   "source": [
    "# load the results from the json files\n",
    "title_res = pd.read_json('title_test.json')\n",
    "text_res = pd.read_json('text_test.json')\n",
    "title_text_res = pd.read_json('title_txt_test.json')"
   ]
  },
  {
   "cell_type": "code",
   "execution_count": 77,
   "metadata": {},
   "outputs": [
    {
     "data": {
      "text/html": [
       "<div>\n",
       "<style scoped>\n",
       "    .dataframe tbody tr th:only-of-type {\n",
       "        vertical-align: middle;\n",
       "    }\n",
       "\n",
       "    .dataframe tbody tr th {\n",
       "        vertical-align: top;\n",
       "    }\n",
       "\n",
       "    .dataframe thead th {\n",
       "        text-align: right;\n",
       "    }\n",
       "</style>\n",
       "<table border=\"1\" class=\"dataframe\">\n",
       "  <thead>\n",
       "    <tr style=\"text-align: right;\">\n",
       "      <th></th>\n",
       "      <th>classifier</th>\n",
       "      <th>test</th>\n",
       "      <th>accuracy</th>\n",
       "      <th>f1</th>\n",
       "      <th>roc_auc</th>\n",
       "    </tr>\n",
       "  </thead>\n",
       "  <tbody>\n",
       "    <tr>\n",
       "      <th>0</th>\n",
       "      <td>svc</td>\n",
       "      <td>title</td>\n",
       "      <td>0.915660</td>\n",
       "      <td>0.923514</td>\n",
       "      <td>0.971062</td>\n",
       "    </tr>\n",
       "    <tr>\n",
       "      <th>1</th>\n",
       "      <td>random forest</td>\n",
       "      <td>title</td>\n",
       "      <td>0.901193</td>\n",
       "      <td>0.910924</td>\n",
       "      <td>0.962960</td>\n",
       "    </tr>\n",
       "    <tr>\n",
       "      <th>2</th>\n",
       "      <td>svc</td>\n",
       "      <td>text</td>\n",
       "      <td>0.971439</td>\n",
       "      <td>0.973962</td>\n",
       "      <td>0.995834</td>\n",
       "    </tr>\n",
       "    <tr>\n",
       "      <th>3</th>\n",
       "      <td>random forest</td>\n",
       "      <td>text</td>\n",
       "      <td>0.951007</td>\n",
       "      <td>0.954917</td>\n",
       "      <td>0.989551</td>\n",
       "    </tr>\n",
       "    <tr>\n",
       "      <th>4</th>\n",
       "      <td>svc</td>\n",
       "      <td>title and text</td>\n",
       "      <td>0.957644</td>\n",
       "      <td>0.961176</td>\n",
       "      <td>0.990647</td>\n",
       "    </tr>\n",
       "    <tr>\n",
       "      <th>5</th>\n",
       "      <td>random forest</td>\n",
       "      <td>title and text</td>\n",
       "      <td>0.937360</td>\n",
       "      <td>0.941796</td>\n",
       "      <td>0.980060</td>\n",
       "    </tr>\n",
       "  </tbody>\n",
       "</table>\n",
       "</div>"
      ],
      "text/plain": [
       "      classifier            test  accuracy        f1   roc_auc\n",
       "0            svc           title  0.915660  0.923514  0.971062\n",
       "1  random forest           title  0.901193  0.910924  0.962960\n",
       "2            svc            text  0.971439  0.973962  0.995834\n",
       "3  random forest            text  0.951007  0.954917  0.989551\n",
       "4            svc  title and text  0.957644  0.961176  0.990647\n",
       "5  random forest  title and text  0.937360  0.941796  0.980060"
      ]
     },
     "execution_count": 77,
     "metadata": {},
     "output_type": "execute_result"
    }
   ],
   "source": [
    "# method to get the accuracy and f1\n",
    "def getAccAndF1(y_true: list, y_pred: list, y_proba: list, classifier: str, test: str) -> pd.DataFrame:\n",
    "\n",
    "    # get accuracy\n",
    "    acc = accuracy_score(y_true, y_pred)\n",
    "\n",
    "    # get F1\n",
    "    f1 = f1_score(y_true, y_pred)\n",
    "\n",
    "    # ROC_AUC\n",
    "    roc_auc = roc_auc_score(y_true, y_proba)\n",
    "\n",
    "    df = pd.DataFrame({'accuracy': acc, 'f1': f1, 'roc_auc': roc_auc}, columns=['accuracy', 'f1', 'roc_auc'], index=[0])\n",
    "\n",
    "    df['classifier'] = classifier\n",
    "    df['test'] = test\n",
    "\n",
    "    # return a dictionary of the results\n",
    "    return df.iloc[:,[3,4, 0,1,2]]\n",
    "\n",
    "#\n",
    "# get the accuracy and f1 for the title\n",
    "title = pd.concat((getAccAndF1(test_y, title_res.svc.iloc[0], title_res.svc.iloc[1], 'svc','title'), getAccAndF1(test_y, title_res.randomforestclassifier.iloc[0], np.array(title_res.randomforestclassifier.iloc[1])[:,1], 'random forest', 'title'))).reset_index(drop=True)\n",
    "title_txt = pd.concat((getAccAndF1(test_y, title_text_res.svc.iloc[0], title_text_res.svc.iloc[1], 'svc','title and text'), getAccAndF1(test_y, title_text_res.randomforestclassifier.iloc[0], np.array(title_text_res.randomforestclassifier.iloc[1])[:,1], 'random forest', 'title and text'))).reset_index(drop=True)\n",
    "text = pd.concat((getAccAndF1(test_y, text_res.svc.iloc[0], text_res.svc.iloc[1],'svc','text'), getAccAndF1(test_y, text_res.randomforestclassifier.iloc[0], np.array(text_res.randomforestclassifier.iloc[1])[:,1], 'random forest', 'text'))).reset_index(drop=True)\n",
    "\n",
    "all_results = pd.concat((title, text, title_txt)).reset_index(drop=True)\n",
    "all_results\n"
   ]
  },
  {
   "cell_type": "code",
   "execution_count": 26,
   "metadata": {},
   "outputs": [],
   "source": [
    "\n",
    "# make a plot of the confusion matrix\n",
    "def makeConfMatrix(title: str, y_true: list, y_pred: list) -> None:\n",
    "    \n",
    "    # create a confusion matrix with the sci kit learn method\n",
    "    cm = confusion_matrix(y_true, y_pred)\n",
    "\n",
    "    # create a confusion matrix display with the sci-kit learn method\n",
    "    disp = ConfusionMatrixDisplay(confusion_matrix=cm)\n",
    "\n",
    "    # plot result\n",
    "    disp.plot()\n",
    "\n",
    "    # add a title\n",
    "    plt.title(title)\n",
    "\n",
    "    return None\n",
    "\n",
    "\n",
    "\n"
   ]
  },
  {
   "cell_type": "code",
   "execution_count": 49,
   "metadata": {},
   "outputs": [
    {
     "data": {
      "image/png": "[encoded data removed]",
      "text/plain": [
       "<Figure size 640x480 with 2 Axes>"
      ]
     },
     "metadata": {},
     "output_type": "display_data"
    },
    {
     "data": {
      "image/png": "[encoded data removed]",
      "text/plain": [
       "<Figure size 640x480 with 2 Axes>"
      ]
     },
     "metadata": {},
     "output_type": "display_data"
    },
    {
     "data": {
      "image/png": "[encoded data removed]",
      "text/plain": [
       "<Figure size 640x480 with 2 Axes>"
      ]
     },
     "metadata": {},
     "output_type": "display_data"
    },
    {
     "data": {
      "image/png": "[encoded data removed]",
      "text/plain": [
       "<Figure size 640x480 with 2 Axes>"
      ]
     },
     "metadata": {},
     "output_type": "display_data"
    },
    {
     "data": {
      "image/png": "[encoded data removed]",
      "text/plain": [
       "<Figure size 640x480 with 2 Axes>"
      ]
     },
     "metadata": {},
     "output_type": "display_data"
    },
    {
     "data": {
      "image/png": "[encoded data removed]",
      "text/plain": [
       "<Figure size 640x480 with 2 Axes>"
      ]
     },
     "metadata": {},
     "output_type": "display_data"
    }
   ],
   "source": [
    "# plot confusion matrix for the title\n",
    "makeConfMatrix('Title confusion matrix for the SVM', test_y, title_res.svc.iloc[0])\n",
    "makeConfMatrix('Title confusion matrix for the Random Forest', test_y, title_res.randomforestclassifier.iloc[0])\n",
    "\n",
    "# plot confusion matrix for the title and text\n",
    "makeConfMatrix('Title and text confusion matrix for the SVM', test_y, title_text_res.svc.iloc[0])\n",
    "makeConfMatrix('Title and text confusion matrix for the Random Forest', test_y, title_text_res.randomforestclassifier.iloc[0])\n",
    "\n",
    "# plot confusion matrix for the text\n",
    "makeConfMatrix('Text confusion matrix for the SVM', test_y, text_res.svc.iloc[0])\n",
    "makeConfMatrix('Text confusion matrix for the Random Forest', test_y, text_res.randomforestclassifier.iloc[0])"
   ]
  }
 ],
 "metadata": {
  "kernelspec": {
   "display_name": "Python 3",
   "language": "python",
   "name": "python3"
  },
  "language_info": {
   "codemirror_mode": {
    "name": "ipython",
    "version": 3
   },
   "file_extension": ".py",
   "mimetype": "text/x-python",
   "name": "python",
   "nbconvert_exporter": "python",
   "pygments_lexer": "ipython3",
   "version": "3.10.0"
  }
 },
 "nbformat": 4,
 "nbformat_minor": 2
}
